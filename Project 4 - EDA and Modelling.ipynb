{
 "cells": [
  {
   "cell_type": "code",
   "execution_count": 108,
   "metadata": {},
   "outputs": [],
   "source": [
    "import numpy as np\n",
    "import pandas as pd\n",
    "import re\n",
    "from random import randint\n",
    "import scipy.stats as stats\n",
    "import seaborn as sns\n",
    "import matplotlib.pyplot as plt\n",
    "import matplotlib.patches as mpatches\n",
    "from sklearn.preprocessing import StandardScaler\n",
    "from sklearn.feature_extraction.text import CountVectorizer, HashingVectorizer, TfidfVectorizer, TfidfTransformer\n",
    "from sklearn.ensemble import RandomForestClassifier\n",
    "from sklearn.model_selection import train_test_split, cross_val_score, cross_val_predict\n",
    "from sklearn.pipeline import Pipeline\n",
    "from sklearn.linear_model import LogisticRegression\n",
    "from sklearn.metrics import classification_report\n",
    "from sklearn.metrics import accuracy_score\n",
    "import warnings \n",
    "warnings.filterwarnings('ignore')\n",
    "\n",
    "sns.set_style('whitegrid')\n",
    "\n",
    "%config InlineBackend.figure_format = 'retina'\n",
    "%matplotlib inline"
   ]
  },
  {
   "cell_type": "code",
   "execution_count": 2,
   "metadata": {},
   "outputs": [],
   "source": [
    "df2 = pd.read_csv('jobs.csv')"
   ]
  },
  {
   "cell_type": "code",
   "execution_count": 3,
   "metadata": {},
   "outputs": [
    {
     "data": {
      "text/html": [
       "<div>\n",
       "<style scoped>\n",
       "    .dataframe tbody tr th:only-of-type {\n",
       "        vertical-align: middle;\n",
       "    }\n",
       "\n",
       "    .dataframe tbody tr th {\n",
       "        vertical-align: top;\n",
       "    }\n",
       "\n",
       "    .dataframe thead th {\n",
       "        text-align: right;\n",
       "    }\n",
       "</style>\n",
       "<table border=\"1\" class=\"dataframe\">\n",
       "  <thead>\n",
       "    <tr style=\"text-align: right;\">\n",
       "      <th></th>\n",
       "      <th>Unnamed: 0</th>\n",
       "      <th>company</th>\n",
       "      <th>job_title</th>\n",
       "      <th>location</th>\n",
       "      <th>employment_type</th>\n",
       "      <th>seniority</th>\n",
       "      <th>job_category</th>\n",
       "      <th>salary_range</th>\n",
       "      <th>salary_type</th>\n",
       "      <th>num_of_applications</th>\n",
       "      <th>last_posted_date</th>\n",
       "      <th>expiry</th>\n",
       "      <th>responsibilities</th>\n",
       "      <th>requirements</th>\n",
       "    </tr>\n",
       "  </thead>\n",
       "  <tbody>\n",
       "    <tr>\n",
       "      <th>0</th>\n",
       "      <td>0</td>\n",
       "      <td>KELLY SERVICES (SINGAPORE) PTE. LTD.</td>\n",
       "      <td>Systems Analyst (Agile)</td>\n",
       "      <td>ASIA SQUARE TOWER 1, 8 MARINA VIEW 018960</td>\n",
       "      <td>Contract</td>\n",
       "      <td>Professional</td>\n",
       "      <td>Information Technology</td>\n",
       "      <td>$9,000to$13,500</td>\n",
       "      <td>Monthly</td>\n",
       "      <td>0 application</td>\n",
       "      <td>Posted 30 Jan 2019</td>\n",
       "      <td>Closing on 01 Mar 2019</td>\n",
       "      <td>Job Description   To build scalable and reliab...</td>\n",
       "      <td>Job Requirements  Degree in Computer Science, ...</td>\n",
       "    </tr>\n",
       "    <tr>\n",
       "      <th>1</th>\n",
       "      <td>1</td>\n",
       "      <td>KELLY SERVICES (SINGAPORE) PTE. LTD.</td>\n",
       "      <td>Systems Analyst (Agile)</td>\n",
       "      <td>ASIA SQUARE TOWER 1, 8 MARINA VIEW 018960</td>\n",
       "      <td>Contract</td>\n",
       "      <td>Professional</td>\n",
       "      <td>Information Technology</td>\n",
       "      <td>$6,000to$9,000</td>\n",
       "      <td>Monthly</td>\n",
       "      <td>0 application</td>\n",
       "      <td>Posted 30 Jan 2019</td>\n",
       "      <td>Closing on 01 Mar 2019</td>\n",
       "      <td>Job Description   To build scalable and reliab...</td>\n",
       "      <td>Job Requirements  Degree in Computer Science, ...</td>\n",
       "    </tr>\n",
       "  </tbody>\n",
       "</table>\n",
       "</div>"
      ],
      "text/plain": [
       "   Unnamed: 0                               company                job_title  \\\n",
       "0           0  KELLY SERVICES (SINGAPORE) PTE. LTD.  Systems Analyst (Agile)   \n",
       "1           1  KELLY SERVICES (SINGAPORE) PTE. LTD.  Systems Analyst (Agile)   \n",
       "\n",
       "                                    location employment_type     seniority  \\\n",
       "0  ASIA SQUARE TOWER 1, 8 MARINA VIEW 018960        Contract  Professional   \n",
       "1  ASIA SQUARE TOWER 1, 8 MARINA VIEW 018960        Contract  Professional   \n",
       "\n",
       "             job_category     salary_range salary_type num_of_applications  \\\n",
       "0  Information Technology  $9,000to$13,500     Monthly       0 application   \n",
       "1  Information Technology   $6,000to$9,000     Monthly       0 application   \n",
       "\n",
       "     last_posted_date                  expiry  \\\n",
       "0  Posted 30 Jan 2019  Closing on 01 Mar 2019   \n",
       "1  Posted 30 Jan 2019  Closing on 01 Mar 2019   \n",
       "\n",
       "                                    responsibilities  \\\n",
       "0  Job Description   To build scalable and reliab...   \n",
       "1  Job Description   To build scalable and reliab...   \n",
       "\n",
       "                                        requirements  \n",
       "0  Job Requirements  Degree in Computer Science, ...  \n",
       "1  Job Requirements  Degree in Computer Science, ...  "
      ]
     },
     "execution_count": 3,
     "metadata": {},
     "output_type": "execute_result"
    }
   ],
   "source": [
    "df2.head(2)"
   ]
  },
  {
   "cell_type": "code",
   "execution_count": 4,
   "metadata": {},
   "outputs": [],
   "source": [
    "# Drop the unnamed column\n",
    "df2.drop(['Unnamed: 0'],axis=1,inplace=True)"
   ]
  },
  {
   "cell_type": "code",
   "execution_count": 5,
   "metadata": {},
   "outputs": [
    {
     "name": "stdout",
     "output_type": "stream",
     "text": [
      "<class 'pandas.core.frame.DataFrame'>\n",
      "RangeIndex: 2000 entries, 0 to 1999\n",
      "Data columns (total 13 columns):\n",
      "company                1832 non-null object\n",
      "job_title              1832 non-null object\n",
      "location               1415 non-null object\n",
      "employment_type        1832 non-null object\n",
      "seniority              1803 non-null object\n",
      "job_category           1832 non-null object\n",
      "salary_range           1832 non-null object\n",
      "salary_type            1640 non-null object\n",
      "num_of_applications    1832 non-null object\n",
      "last_posted_date       1832 non-null object\n",
      "expiry                 1832 non-null object\n",
      "responsibilities       1832 non-null object\n",
      "requirements           1761 non-null object\n",
      "dtypes: object(13)\n",
      "memory usage: 203.2+ KB\n"
     ]
    }
   ],
   "source": [
    "df2.info()"
   ]
  },
  {
   "cell_type": "code",
   "execution_count": 6,
   "metadata": {},
   "outputs": [
    {
     "data": {
      "text/html": [
       "<div>\n",
       "<style scoped>\n",
       "    .dataframe tbody tr th:only-of-type {\n",
       "        vertical-align: middle;\n",
       "    }\n",
       "\n",
       "    .dataframe tbody tr th {\n",
       "        vertical-align: top;\n",
       "    }\n",
       "\n",
       "    .dataframe thead th {\n",
       "        text-align: right;\n",
       "    }\n",
       "</style>\n",
       "<table border=\"1\" class=\"dataframe\">\n",
       "  <thead>\n",
       "    <tr style=\"text-align: right;\">\n",
       "      <th></th>\n",
       "      <th>column_name</th>\n",
       "      <th>missing_count</th>\n",
       "      <th>filling_factor</th>\n",
       "    </tr>\n",
       "  </thead>\n",
       "  <tbody>\n",
       "    <tr>\n",
       "      <th>0</th>\n",
       "      <td>location</td>\n",
       "      <td>585</td>\n",
       "      <td>70.75</td>\n",
       "    </tr>\n",
       "    <tr>\n",
       "      <th>1</th>\n",
       "      <td>salary_type</td>\n",
       "      <td>360</td>\n",
       "      <td>82.00</td>\n",
       "    </tr>\n",
       "    <tr>\n",
       "      <th>2</th>\n",
       "      <td>requirements</td>\n",
       "      <td>239</td>\n",
       "      <td>88.05</td>\n",
       "    </tr>\n",
       "    <tr>\n",
       "      <th>3</th>\n",
       "      <td>seniority</td>\n",
       "      <td>197</td>\n",
       "      <td>90.15</td>\n",
       "    </tr>\n",
       "    <tr>\n",
       "      <th>4</th>\n",
       "      <td>company</td>\n",
       "      <td>168</td>\n",
       "      <td>91.60</td>\n",
       "    </tr>\n",
       "    <tr>\n",
       "      <th>5</th>\n",
       "      <td>job_title</td>\n",
       "      <td>168</td>\n",
       "      <td>91.60</td>\n",
       "    </tr>\n",
       "    <tr>\n",
       "      <th>6</th>\n",
       "      <td>employment_type</td>\n",
       "      <td>168</td>\n",
       "      <td>91.60</td>\n",
       "    </tr>\n",
       "    <tr>\n",
       "      <th>7</th>\n",
       "      <td>job_category</td>\n",
       "      <td>168</td>\n",
       "      <td>91.60</td>\n",
       "    </tr>\n",
       "    <tr>\n",
       "      <th>8</th>\n",
       "      <td>salary_range</td>\n",
       "      <td>168</td>\n",
       "      <td>91.60</td>\n",
       "    </tr>\n",
       "    <tr>\n",
       "      <th>9</th>\n",
       "      <td>num_of_applications</td>\n",
       "      <td>168</td>\n",
       "      <td>91.60</td>\n",
       "    </tr>\n",
       "    <tr>\n",
       "      <th>10</th>\n",
       "      <td>last_posted_date</td>\n",
       "      <td>168</td>\n",
       "      <td>91.60</td>\n",
       "    </tr>\n",
       "    <tr>\n",
       "      <th>11</th>\n",
       "      <td>expiry</td>\n",
       "      <td>168</td>\n",
       "      <td>91.60</td>\n",
       "    </tr>\n",
       "    <tr>\n",
       "      <th>12</th>\n",
       "      <td>responsibilities</td>\n",
       "      <td>168</td>\n",
       "      <td>91.60</td>\n",
       "    </tr>\n",
       "  </tbody>\n",
       "</table>\n",
       "</div>"
      ],
      "text/plain": [
       "            column_name  missing_count  filling_factor\n",
       "0              location            585           70.75\n",
       "1           salary_type            360           82.00\n",
       "2          requirements            239           88.05\n",
       "3             seniority            197           90.15\n",
       "4               company            168           91.60\n",
       "5             job_title            168           91.60\n",
       "6       employment_type            168           91.60\n",
       "7          job_category            168           91.60\n",
       "8          salary_range            168           91.60\n",
       "9   num_of_applications            168           91.60\n",
       "10     last_posted_date            168           91.60\n",
       "11               expiry            168           91.60\n",
       "12     responsibilities            168           91.60"
      ]
     },
     "execution_count": 6,
     "metadata": {},
     "output_type": "execute_result"
    }
   ],
   "source": [
    "# Check for missing values # \n",
    "\n",
    "def tab_missing_values(df):\n",
    "    \"\"\"\n",
    "        Takes a data frame and tabulates all missing values by column \n",
    "    \"\"\"    \n",
    "    missing_df = df.isnull().sum(axis=0).reset_index()\n",
    "    missing_df.columns = ['column_name', 'missing_count']\n",
    "\n",
    "    # Filling factor is % of non null values in the column #\n",
    "    missing_df['filling_factor'] = (df.shape[0] \n",
    "                                    - missing_df['missing_count']) / df.shape[0] * 100\n",
    "    missing_df = missing_df.sort_values('filling_factor').reset_index(drop = True)\n",
    "\n",
    "    return missing_df \n",
    "\n",
    "\n",
    "missing=tab_missing_values(df2)\n",
    "\n",
    "# No missing values found # \n",
    "missing[missing['missing_count']>0]"
   ]
  },
  {
   "cell_type": "code",
   "execution_count": 7,
   "metadata": {},
   "outputs": [
    {
     "data": {
      "image/png": "[encoded data removed]",
      "text/plain": [
       "<Figure size 1080x432 with 1 Axes>"
      ]
     },
     "metadata": {
      "image/png": {
       "height": 452,
       "width": 876
      },
      "needs_background": "light"
     },
     "output_type": "display_data"
    }
   ],
   "source": [
    "missing_df=tab_missing_values(df2)\n",
    "plt.figure(figsize=(15,6))\n",
    "f=missing_df['missing_count'].plot.bar()\n",
    "f.set_xticklabels(missing_df['column_name'],rotation=45)\n",
    "f.set_title('Missing values count by column',fontsize=16,fontweight='bold')\n",
    "f.set_xlabel('Features',fontsize=12)\n",
    "plt.show()"
   ]
  },
  {
   "cell_type": "code",
   "execution_count": 8,
   "metadata": {},
   "outputs": [],
   "source": [
    "# drop rows where all fields are missing (broken links)\n",
    "df2 = df2.dropna(how='all',inplace=False)\n",
    "\n",
    "# drop rows where there is no salary information\n",
    "df2 = df2.dropna(subset = ['salary_range'],inplace=False)"
   ]
  },
  {
   "cell_type": "code",
   "execution_count": 9,
   "metadata": {},
   "outputs": [
    {
     "data": {
      "text/html": [
       "<div>\n",
       "<style scoped>\n",
       "    .dataframe tbody tr th:only-of-type {\n",
       "        vertical-align: middle;\n",
       "    }\n",
       "\n",
       "    .dataframe tbody tr th {\n",
       "        vertical-align: top;\n",
       "    }\n",
       "\n",
       "    .dataframe thead th {\n",
       "        text-align: right;\n",
       "    }\n",
       "</style>\n",
       "<table border=\"1\" class=\"dataframe\">\n",
       "  <thead>\n",
       "    <tr style=\"text-align: right;\">\n",
       "      <th></th>\n",
       "      <th>company</th>\n",
       "      <th>job_title</th>\n",
       "      <th>location</th>\n",
       "      <th>employment_type</th>\n",
       "      <th>seniority</th>\n",
       "      <th>job_category</th>\n",
       "      <th>salary_range</th>\n",
       "      <th>salary_type</th>\n",
       "      <th>num_of_applications</th>\n",
       "      <th>last_posted_date</th>\n",
       "      <th>expiry</th>\n",
       "      <th>responsibilities</th>\n",
       "      <th>requirements</th>\n",
       "    </tr>\n",
       "  </thead>\n",
       "  <tbody>\n",
       "    <tr>\n",
       "      <th>0</th>\n",
       "      <td>KELLY SERVICES (SINGAPORE) PTE. LTD.</td>\n",
       "      <td>Systems Analyst (Agile)</td>\n",
       "      <td>ASIA SQUARE TOWER 1, 8 MARINA VIEW 018960</td>\n",
       "      <td>Contract</td>\n",
       "      <td>Professional</td>\n",
       "      <td>Information Technology</td>\n",
       "      <td>$9,000to$13,500</td>\n",
       "      <td>Monthly</td>\n",
       "      <td>0 application</td>\n",
       "      <td>Posted 30 Jan 2019</td>\n",
       "      <td>Closing on 01 Mar 2019</td>\n",
       "      <td>Job Description   To build scalable and reliab...</td>\n",
       "      <td>Job Requirements  Degree in Computer Science, ...</td>\n",
       "    </tr>\n",
       "    <tr>\n",
       "      <th>1</th>\n",
       "      <td>KELLY SERVICES (SINGAPORE) PTE. LTD.</td>\n",
       "      <td>Systems Analyst (Agile)</td>\n",
       "      <td>ASIA SQUARE TOWER 1, 8 MARINA VIEW 018960</td>\n",
       "      <td>Contract</td>\n",
       "      <td>Professional</td>\n",
       "      <td>Information Technology</td>\n",
       "      <td>$6,000to$9,000</td>\n",
       "      <td>Monthly</td>\n",
       "      <td>0 application</td>\n",
       "      <td>Posted 30 Jan 2019</td>\n",
       "      <td>Closing on 01 Mar 2019</td>\n",
       "      <td>Job Description   To build scalable and reliab...</td>\n",
       "      <td>Job Requirements  Degree in Computer Science, ...</td>\n",
       "    </tr>\n",
       "    <tr>\n",
       "      <th>2</th>\n",
       "      <td>GOOGLE ASIA PACIFIC PTE. LTD.</td>\n",
       "      <td>Data Science Lead, Large Customer Sales - Sing...</td>\n",
       "      <td>MARINA BAY FINANCIAL CENTRE, 8 MARINA BOULEVAR...</td>\n",
       "      <td>Full Time</td>\n",
       "      <td>Executive</td>\n",
       "      <td>Information Technology</td>\n",
       "      <td>$7,700to$15,400</td>\n",
       "      <td>Monthly</td>\n",
       "      <td>3 applications</td>\n",
       "      <td>Posted 29 Jan 2019</td>\n",
       "      <td>Closing on 28 Feb 2019</td>\n",
       "      <td>Company overview: Google is not a conventional...</td>\n",
       "      <td>Minimum qualifications: - Bachelor’s degree in...</td>\n",
       "    </tr>\n",
       "    <tr>\n",
       "      <th>3</th>\n",
       "      <td>TRAKOMATIC PTE. LTD.</td>\n",
       "      <td>Data analyst</td>\n",
       "      <td>ALICE@MEDIAPOLIS, 29 MEDIA CIRCLE 138565</td>\n",
       "      <td>Full Time</td>\n",
       "      <td>Professional</td>\n",
       "      <td>Information Technology</td>\n",
       "      <td>$3,500to$4,500</td>\n",
       "      <td>Monthly</td>\n",
       "      <td>12 applications</td>\n",
       "      <td>Posted 29 Jan 2019</td>\n",
       "      <td>Closing on 28 Feb 2019</td>\n",
       "      <td>The Retail Data Analyst will lead and perform ...</td>\n",
       "      <td>Requirements:     A bachelor’s degree in math,...</td>\n",
       "    </tr>\n",
       "    <tr>\n",
       "      <th>4</th>\n",
       "      <td>VARIAN MEDICAL SYSTEMS PACIFIC, INC.</td>\n",
       "      <td>Business Data Analyst</td>\n",
       "      <td>NaN</td>\n",
       "      <td>Permanent</td>\n",
       "      <td>Fresh/entry level</td>\n",
       "      <td>Consulting , Information Technology</td>\n",
       "      <td>Salary undisclosed</td>\n",
       "      <td>NaN</td>\n",
       "      <td>48 applications</td>\n",
       "      <td>Posted 29 Jan 2019</td>\n",
       "      <td>Closing on 28 Feb 2019</td>\n",
       "      <td>Position Summary &amp; Core Responsibilities: Data...</td>\n",
       "      <td>Minimum Required Skills and Knowledge:  Profic...</td>\n",
       "    </tr>\n",
       "  </tbody>\n",
       "</table>\n",
       "</div>"
      ],
      "text/plain": [
       "                                company  \\\n",
       "0  KELLY SERVICES (SINGAPORE) PTE. LTD.   \n",
       "1  KELLY SERVICES (SINGAPORE) PTE. LTD.   \n",
       "2         GOOGLE ASIA PACIFIC PTE. LTD.   \n",
       "3                  TRAKOMATIC PTE. LTD.   \n",
       "4  VARIAN MEDICAL SYSTEMS PACIFIC, INC.   \n",
       "\n",
       "                                           job_title  \\\n",
       "0                            Systems Analyst (Agile)   \n",
       "1                            Systems Analyst (Agile)   \n",
       "2  Data Science Lead, Large Customer Sales - Sing...   \n",
       "3                                       Data analyst   \n",
       "4                              Business Data Analyst   \n",
       "\n",
       "                                            location employment_type  \\\n",
       "0          ASIA SQUARE TOWER 1, 8 MARINA VIEW 018960        Contract   \n",
       "1          ASIA SQUARE TOWER 1, 8 MARINA VIEW 018960        Contract   \n",
       "2  MARINA BAY FINANCIAL CENTRE, 8 MARINA BOULEVAR...       Full Time   \n",
       "3           ALICE@MEDIAPOLIS, 29 MEDIA CIRCLE 138565       Full Time   \n",
       "4                                                NaN       Permanent   \n",
       "\n",
       "           seniority                         job_category        salary_range  \\\n",
       "0       Professional               Information Technology     $9,000to$13,500   \n",
       "1       Professional               Information Technology      $6,000to$9,000   \n",
       "2          Executive               Information Technology     $7,700to$15,400   \n",
       "3       Professional               Information Technology      $3,500to$4,500   \n",
       "4  Fresh/entry level  Consulting , Information Technology  Salary undisclosed   \n",
       "\n",
       "  salary_type num_of_applications    last_posted_date                  expiry  \\\n",
       "0     Monthly       0 application  Posted 30 Jan 2019  Closing on 01 Mar 2019   \n",
       "1     Monthly       0 application  Posted 30 Jan 2019  Closing on 01 Mar 2019   \n",
       "2     Monthly      3 applications  Posted 29 Jan 2019  Closing on 28 Feb 2019   \n",
       "3     Monthly     12 applications  Posted 29 Jan 2019  Closing on 28 Feb 2019   \n",
       "4         NaN     48 applications  Posted 29 Jan 2019  Closing on 28 Feb 2019   \n",
       "\n",
       "                                    responsibilities  \\\n",
       "0  Job Description   To build scalable and reliab...   \n",
       "1  Job Description   To build scalable and reliab...   \n",
       "2  Company overview: Google is not a conventional...   \n",
       "3  The Retail Data Analyst will lead and perform ...   \n",
       "4  Position Summary & Core Responsibilities: Data...   \n",
       "\n",
       "                                        requirements  \n",
       "0  Job Requirements  Degree in Computer Science, ...  \n",
       "1  Job Requirements  Degree in Computer Science, ...  \n",
       "2  Minimum qualifications: - Bachelor’s degree in...  \n",
       "3  Requirements:     A bachelor’s degree in math,...  \n",
       "4  Minimum Required Skills and Knowledge:  Profic...  "
      ]
     },
     "execution_count": 9,
     "metadata": {},
     "output_type": "execute_result"
    }
   ],
   "source": [
    "df2.head()"
   ]
  },
  {
   "cell_type": "code",
   "execution_count": 10,
   "metadata": {},
   "outputs": [],
   "source": [
    "# df2 = df2.reset_index(drop=True,inplace=True)\n",
    "# df2.head()\n",
    "# print(\"shape:{}\".format(df2.shape))"
   ]
  },
  {
   "cell_type": "code",
   "execution_count": 11,
   "metadata": {},
   "outputs": [
    {
     "data": {
      "text/html": [
       "<div>\n",
       "<style scoped>\n",
       "    .dataframe tbody tr th:only-of-type {\n",
       "        vertical-align: middle;\n",
       "    }\n",
       "\n",
       "    .dataframe tbody tr th {\n",
       "        vertical-align: top;\n",
       "    }\n",
       "\n",
       "    .dataframe thead th {\n",
       "        text-align: right;\n",
       "    }\n",
       "</style>\n",
       "<table border=\"1\" class=\"dataframe\">\n",
       "  <thead>\n",
       "    <tr style=\"text-align: right;\">\n",
       "      <th></th>\n",
       "      <th>company</th>\n",
       "      <th>job_title</th>\n",
       "      <th>location</th>\n",
       "      <th>employment_type</th>\n",
       "      <th>seniority</th>\n",
       "      <th>job_category</th>\n",
       "      <th>salary_range</th>\n",
       "      <th>salary_type</th>\n",
       "      <th>num_of_applications</th>\n",
       "      <th>last_posted_date</th>\n",
       "      <th>expiry</th>\n",
       "      <th>responsibilities</th>\n",
       "      <th>requirements</th>\n",
       "    </tr>\n",
       "  </thead>\n",
       "  <tbody>\n",
       "    <tr>\n",
       "      <th>0</th>\n",
       "      <td>KELLY SERVICES (SINGAPORE) PTE. LTD.</td>\n",
       "      <td>Systems Analyst (Agile)</td>\n",
       "      <td>ASIA SQUARE TOWER 1, 8 MARINA VIEW 018960</td>\n",
       "      <td>Contract</td>\n",
       "      <td>Professional</td>\n",
       "      <td>Information Technology</td>\n",
       "      <td>$9,000to$13,500</td>\n",
       "      <td>Monthly</td>\n",
       "      <td>0 application</td>\n",
       "      <td>Posted 30 Jan 2019</td>\n",
       "      <td>Closing on 01 Mar 2019</td>\n",
       "      <td>Job Description   To build scalable and reliab...</td>\n",
       "      <td>Job Requirements  Degree in Computer Science, ...</td>\n",
       "    </tr>\n",
       "    <tr>\n",
       "      <th>1</th>\n",
       "      <td>KELLY SERVICES (SINGAPORE) PTE. LTD.</td>\n",
       "      <td>Systems Analyst (Agile)</td>\n",
       "      <td>ASIA SQUARE TOWER 1, 8 MARINA VIEW 018960</td>\n",
       "      <td>Contract</td>\n",
       "      <td>Professional</td>\n",
       "      <td>Information Technology</td>\n",
       "      <td>$6,000to$9,000</td>\n",
       "      <td>Monthly</td>\n",
       "      <td>0 application</td>\n",
       "      <td>Posted 30 Jan 2019</td>\n",
       "      <td>Closing on 01 Mar 2019</td>\n",
       "      <td>Job Description   To build scalable and reliab...</td>\n",
       "      <td>Job Requirements  Degree in Computer Science, ...</td>\n",
       "    </tr>\n",
       "    <tr>\n",
       "      <th>2</th>\n",
       "      <td>GOOGLE ASIA PACIFIC PTE. LTD.</td>\n",
       "      <td>Data Science Lead, Large Customer Sales - Sing...</td>\n",
       "      <td>MARINA BAY FINANCIAL CENTRE, 8 MARINA BOULEVAR...</td>\n",
       "      <td>Full Time</td>\n",
       "      <td>Executive</td>\n",
       "      <td>Information Technology</td>\n",
       "      <td>$7,700to$15,400</td>\n",
       "      <td>Monthly</td>\n",
       "      <td>3 applications</td>\n",
       "      <td>Posted 29 Jan 2019</td>\n",
       "      <td>Closing on 28 Feb 2019</td>\n",
       "      <td>Company overview: Google is not a conventional...</td>\n",
       "      <td>Minimum qualifications: - Bachelor’s degree in...</td>\n",
       "    </tr>\n",
       "    <tr>\n",
       "      <th>3</th>\n",
       "      <td>TRAKOMATIC PTE. LTD.</td>\n",
       "      <td>Data analyst</td>\n",
       "      <td>ALICE@MEDIAPOLIS, 29 MEDIA CIRCLE 138565</td>\n",
       "      <td>Full Time</td>\n",
       "      <td>Professional</td>\n",
       "      <td>Information Technology</td>\n",
       "      <td>$3,500to$4,500</td>\n",
       "      <td>Monthly</td>\n",
       "      <td>12 applications</td>\n",
       "      <td>Posted 29 Jan 2019</td>\n",
       "      <td>Closing on 28 Feb 2019</td>\n",
       "      <td>The Retail Data Analyst will lead and perform ...</td>\n",
       "      <td>Requirements:     A bachelor’s degree in math,...</td>\n",
       "    </tr>\n",
       "    <tr>\n",
       "      <th>4</th>\n",
       "      <td>VARIAN MEDICAL SYSTEMS PACIFIC, INC.</td>\n",
       "      <td>Business Data Analyst</td>\n",
       "      <td>NaN</td>\n",
       "      <td>Permanent</td>\n",
       "      <td>Fresh/entry level</td>\n",
       "      <td>Consulting , Information Technology</td>\n",
       "      <td>Salary undisclosed</td>\n",
       "      <td>NaN</td>\n",
       "      <td>48 applications</td>\n",
       "      <td>Posted 29 Jan 2019</td>\n",
       "      <td>Closing on 28 Feb 2019</td>\n",
       "      <td>Position Summary &amp; Core Responsibilities: Data...</td>\n",
       "      <td>Minimum Required Skills and Knowledge:  Profic...</td>\n",
       "    </tr>\n",
       "  </tbody>\n",
       "</table>\n",
       "</div>"
      ],
      "text/plain": [
       "                                company  \\\n",
       "0  KELLY SERVICES (SINGAPORE) PTE. LTD.   \n",
       "1  KELLY SERVICES (SINGAPORE) PTE. LTD.   \n",
       "2         GOOGLE ASIA PACIFIC PTE. LTD.   \n",
       "3                  TRAKOMATIC PTE. LTD.   \n",
       "4  VARIAN MEDICAL SYSTEMS PACIFIC, INC.   \n",
       "\n",
       "                                           job_title  \\\n",
       "0                            Systems Analyst (Agile)   \n",
       "1                            Systems Analyst (Agile)   \n",
       "2  Data Science Lead, Large Customer Sales - Sing...   \n",
       "3                                       Data analyst   \n",
       "4                              Business Data Analyst   \n",
       "\n",
       "                                            location employment_type  \\\n",
       "0          ASIA SQUARE TOWER 1, 8 MARINA VIEW 018960        Contract   \n",
       "1          ASIA SQUARE TOWER 1, 8 MARINA VIEW 018960        Contract   \n",
       "2  MARINA BAY FINANCIAL CENTRE, 8 MARINA BOULEVAR...       Full Time   \n",
       "3           ALICE@MEDIAPOLIS, 29 MEDIA CIRCLE 138565       Full Time   \n",
       "4                                                NaN       Permanent   \n",
       "\n",
       "           seniority                         job_category        salary_range  \\\n",
       "0       Professional               Information Technology     $9,000to$13,500   \n",
       "1       Professional               Information Technology      $6,000to$9,000   \n",
       "2          Executive               Information Technology     $7,700to$15,400   \n",
       "3       Professional               Information Technology      $3,500to$4,500   \n",
       "4  Fresh/entry level  Consulting , Information Technology  Salary undisclosed   \n",
       "\n",
       "  salary_type num_of_applications    last_posted_date                  expiry  \\\n",
       "0     Monthly       0 application  Posted 30 Jan 2019  Closing on 01 Mar 2019   \n",
       "1     Monthly       0 application  Posted 30 Jan 2019  Closing on 01 Mar 2019   \n",
       "2     Monthly      3 applications  Posted 29 Jan 2019  Closing on 28 Feb 2019   \n",
       "3     Monthly     12 applications  Posted 29 Jan 2019  Closing on 28 Feb 2019   \n",
       "4         NaN     48 applications  Posted 29 Jan 2019  Closing on 28 Feb 2019   \n",
       "\n",
       "                                    responsibilities  \\\n",
       "0  Job Description   To build scalable and reliab...   \n",
       "1  Job Description   To build scalable and reliab...   \n",
       "2  Company overview: Google is not a conventional...   \n",
       "3  The Retail Data Analyst will lead and perform ...   \n",
       "4  Position Summary & Core Responsibilities: Data...   \n",
       "\n",
       "                                        requirements  \n",
       "0  Job Requirements  Degree in Computer Science, ...  \n",
       "1  Job Requirements  Degree in Computer Science, ...  \n",
       "2  Minimum qualifications: - Bachelor’s degree in...  \n",
       "3  Requirements:     A bachelor’s degree in math,...  \n",
       "4  Minimum Required Skills and Knowledge:  Profic...  "
      ]
     },
     "execution_count": 11,
     "metadata": {},
     "output_type": "execute_result"
    }
   ],
   "source": [
    "df2.head()"
   ]
  },
  {
   "cell_type": "code",
   "execution_count": 12,
   "metadata": {},
   "outputs": [
    {
     "name": "stdout",
     "output_type": "stream",
     "text": [
      "<class 'pandas.core.frame.DataFrame'>\n",
      "Int64Index: 1832 entries, 0 to 1999\n",
      "Data columns (total 13 columns):\n",
      "company                1832 non-null object\n",
      "job_title              1832 non-null object\n",
      "location               1415 non-null object\n",
      "employment_type        1832 non-null object\n",
      "seniority              1803 non-null object\n",
      "job_category           1832 non-null object\n",
      "salary_range           1832 non-null object\n",
      "salary_type            1640 non-null object\n",
      "num_of_applications    1832 non-null object\n",
      "last_posted_date       1832 non-null object\n",
      "expiry                 1832 non-null object\n",
      "responsibilities       1832 non-null object\n",
      "requirements           1761 non-null object\n",
      "dtypes: object(13)\n",
      "memory usage: 200.4+ KB\n"
     ]
    }
   ],
   "source": [
    "df2.info()"
   ]
  },
  {
   "cell_type": "code",
   "execution_count": 13,
   "metadata": {},
   "outputs": [
    {
     "name": "stdout",
     "output_type": "stream",
     "text": [
      "no. of missing target values: 0\n"
     ]
    }
   ],
   "source": [
    "# locate indexes of rows with salary as NaN\n",
    "null_salary = df2.salary_range.isnull()\n",
    "print('no. of missing target values: {}'. format(null_salary.sum()))"
   ]
  },
  {
   "cell_type": "code",
   "execution_count": 14,
   "metadata": {},
   "outputs": [],
   "source": [
    "# drop rows where salary is not disclosed\n",
    "df2 = df2[df2.salary_range != \"Salary undisclosed\"]"
   ]
  },
  {
   "cell_type": "code",
   "execution_count": 15,
   "metadata": {},
   "outputs": [
    {
     "name": "stdout",
     "output_type": "stream",
     "text": [
      "shape:(1640, 13)\n"
     ]
    }
   ],
   "source": [
    "# reset index\n",
    "df2.reset_index(drop=True,inplace=True)\n",
    "\n",
    "print(\"shape:{}\".format(df2.shape))"
   ]
  },
  {
   "cell_type": "code",
   "execution_count": 16,
   "metadata": {},
   "outputs": [
    {
     "name": "stdout",
     "output_type": "stream",
     "text": [
      "no. of missing address: 344 \n",
      "\n",
      "[15, 16, 21, 22, 26, 30, 52, 53, 64, 65] \n",
      "\n"
     ]
    }
   ],
   "source": [
    "# locate indexes of rows with addresses as NaN\n",
    "null_location = df2.location.isnull()\n",
    "print('no. of missing address: {}'.format(null_location.sum()),'\\n')\n",
    "\n",
    "null_location_indexlist = [i for i,v in enumerate(list(null_location)) if v == True]\n",
    "print(null_location_indexlist[0:10],'\\n')\n",
    "\n",
    "# examine rows with address as Nan\n",
    "df2.iloc[null_location_indexlist,:]\n",
    "\n",
    "# as these rows contain useful information, we will replace them with undisclosed\n",
    "df2['location'].iloc[null_location_indexlist] = 'undisclosed'"
   ]
  },
  {
   "cell_type": "code",
   "execution_count": 17,
   "metadata": {},
   "outputs": [
    {
     "data": {
      "text/html": [
       "<div>\n",
       "<style scoped>\n",
       "    .dataframe tbody tr th:only-of-type {\n",
       "        vertical-align: middle;\n",
       "    }\n",
       "\n",
       "    .dataframe tbody tr th {\n",
       "        vertical-align: top;\n",
       "    }\n",
       "\n",
       "    .dataframe thead th {\n",
       "        text-align: right;\n",
       "    }\n",
       "</style>\n",
       "<table border=\"1\" class=\"dataframe\">\n",
       "  <thead>\n",
       "    <tr style=\"text-align: right;\">\n",
       "      <th></th>\n",
       "      <th>company</th>\n",
       "      <th>job_title</th>\n",
       "      <th>location</th>\n",
       "      <th>employment_type</th>\n",
       "      <th>seniority</th>\n",
       "      <th>job_category</th>\n",
       "      <th>salary_range</th>\n",
       "      <th>salary_type</th>\n",
       "      <th>num_of_applications</th>\n",
       "      <th>last_posted_date</th>\n",
       "      <th>expiry</th>\n",
       "      <th>responsibilities</th>\n",
       "      <th>requirements</th>\n",
       "    </tr>\n",
       "  </thead>\n",
       "  <tbody>\n",
       "    <tr>\n",
       "      <th>0</th>\n",
       "      <td>KELLY SERVICES (SINGAPORE) PTE. LTD.</td>\n",
       "      <td>Systems Analyst (Agile)</td>\n",
       "      <td>ASIA SQUARE TOWER 1, 8 MARINA VIEW 018960</td>\n",
       "      <td>Contract</td>\n",
       "      <td>Professional</td>\n",
       "      <td>Information Technology</td>\n",
       "      <td>$9,000to$13,500</td>\n",
       "      <td>Monthly</td>\n",
       "      <td>0 application</td>\n",
       "      <td>Posted 30 Jan 2019</td>\n",
       "      <td>Closing on 01 Mar 2019</td>\n",
       "      <td>Job Description   To build scalable and reliab...</td>\n",
       "      <td>Job Requirements  Degree in Computer Science, ...</td>\n",
       "    </tr>\n",
       "    <tr>\n",
       "      <th>1</th>\n",
       "      <td>KELLY SERVICES (SINGAPORE) PTE. LTD.</td>\n",
       "      <td>Systems Analyst (Agile)</td>\n",
       "      <td>ASIA SQUARE TOWER 1, 8 MARINA VIEW 018960</td>\n",
       "      <td>Contract</td>\n",
       "      <td>Professional</td>\n",
       "      <td>Information Technology</td>\n",
       "      <td>$6,000to$9,000</td>\n",
       "      <td>Monthly</td>\n",
       "      <td>0 application</td>\n",
       "      <td>Posted 30 Jan 2019</td>\n",
       "      <td>Closing on 01 Mar 2019</td>\n",
       "      <td>Job Description   To build scalable and reliab...</td>\n",
       "      <td>Job Requirements  Degree in Computer Science, ...</td>\n",
       "    </tr>\n",
       "    <tr>\n",
       "      <th>2</th>\n",
       "      <td>GOOGLE ASIA PACIFIC PTE. LTD.</td>\n",
       "      <td>Data Science Lead, Large Customer Sales - Sing...</td>\n",
       "      <td>MARINA BAY FINANCIAL CENTRE, 8 MARINA BOULEVAR...</td>\n",
       "      <td>Full Time</td>\n",
       "      <td>Executive</td>\n",
       "      <td>Information Technology</td>\n",
       "      <td>$7,700to$15,400</td>\n",
       "      <td>Monthly</td>\n",
       "      <td>3 applications</td>\n",
       "      <td>Posted 29 Jan 2019</td>\n",
       "      <td>Closing on 28 Feb 2019</td>\n",
       "      <td>Company overview: Google is not a conventional...</td>\n",
       "      <td>Minimum qualifications: - Bachelor’s degree in...</td>\n",
       "    </tr>\n",
       "    <tr>\n",
       "      <th>3</th>\n",
       "      <td>TRAKOMATIC PTE. LTD.</td>\n",
       "      <td>Data analyst</td>\n",
       "      <td>ALICE@MEDIAPOLIS, 29 MEDIA CIRCLE 138565</td>\n",
       "      <td>Full Time</td>\n",
       "      <td>Professional</td>\n",
       "      <td>Information Technology</td>\n",
       "      <td>$3,500to$4,500</td>\n",
       "      <td>Monthly</td>\n",
       "      <td>12 applications</td>\n",
       "      <td>Posted 29 Jan 2019</td>\n",
       "      <td>Closing on 28 Feb 2019</td>\n",
       "      <td>The Retail Data Analyst will lead and perform ...</td>\n",
       "      <td>Requirements:     A bachelor’s degree in math,...</td>\n",
       "    </tr>\n",
       "    <tr>\n",
       "      <th>4</th>\n",
       "      <td>INTELLECT MINDS PTE. LTD.</td>\n",
       "      <td>Data Engineer</td>\n",
       "      <td>ANSON CENTRE, 51 ANSON ROAD 079904</td>\n",
       "      <td>Full Time</td>\n",
       "      <td>Executive</td>\n",
       "      <td>Information Technology</td>\n",
       "      <td>$5,000to$7,000</td>\n",
       "      <td>Monthly</td>\n",
       "      <td>1 application</td>\n",
       "      <td>Posted 29 Jan 2019</td>\n",
       "      <td>Closing on 28 Feb 2019</td>\n",
       "      <td>Company Overview Intellect Minds is a Singapor...</td>\n",
       "      <td>Qualifications • Advanced working SQL knowledg...</td>\n",
       "    </tr>\n",
       "  </tbody>\n",
       "</table>\n",
       "</div>"
      ],
      "text/plain": [
       "                                company  \\\n",
       "0  KELLY SERVICES (SINGAPORE) PTE. LTD.   \n",
       "1  KELLY SERVICES (SINGAPORE) PTE. LTD.   \n",
       "2         GOOGLE ASIA PACIFIC PTE. LTD.   \n",
       "3                  TRAKOMATIC PTE. LTD.   \n",
       "4             INTELLECT MINDS PTE. LTD.   \n",
       "\n",
       "                                           job_title  \\\n",
       "0                            Systems Analyst (Agile)   \n",
       "1                            Systems Analyst (Agile)   \n",
       "2  Data Science Lead, Large Customer Sales - Sing...   \n",
       "3                                       Data analyst   \n",
       "4                                      Data Engineer   \n",
       "\n",
       "                                            location employment_type  \\\n",
       "0          ASIA SQUARE TOWER 1, 8 MARINA VIEW 018960        Contract   \n",
       "1          ASIA SQUARE TOWER 1, 8 MARINA VIEW 018960        Contract   \n",
       "2  MARINA BAY FINANCIAL CENTRE, 8 MARINA BOULEVAR...       Full Time   \n",
       "3           ALICE@MEDIAPOLIS, 29 MEDIA CIRCLE 138565       Full Time   \n",
       "4                 ANSON CENTRE, 51 ANSON ROAD 079904       Full Time   \n",
       "\n",
       "      seniority            job_category     salary_range salary_type  \\\n",
       "0  Professional  Information Technology  $9,000to$13,500     Monthly   \n",
       "1  Professional  Information Technology   $6,000to$9,000     Monthly   \n",
       "2     Executive  Information Technology  $7,700to$15,400     Monthly   \n",
       "3  Professional  Information Technology   $3,500to$4,500     Monthly   \n",
       "4     Executive  Information Technology   $5,000to$7,000     Monthly   \n",
       "\n",
       "  num_of_applications    last_posted_date                  expiry  \\\n",
       "0       0 application  Posted 30 Jan 2019  Closing on 01 Mar 2019   \n",
       "1       0 application  Posted 30 Jan 2019  Closing on 01 Mar 2019   \n",
       "2      3 applications  Posted 29 Jan 2019  Closing on 28 Feb 2019   \n",
       "3     12 applications  Posted 29 Jan 2019  Closing on 28 Feb 2019   \n",
       "4       1 application  Posted 29 Jan 2019  Closing on 28 Feb 2019   \n",
       "\n",
       "                                    responsibilities  \\\n",
       "0  Job Description   To build scalable and reliab...   \n",
       "1  Job Description   To build scalable and reliab...   \n",
       "2  Company overview: Google is not a conventional...   \n",
       "3  The Retail Data Analyst will lead and perform ...   \n",
       "4  Company Overview Intellect Minds is a Singapor...   \n",
       "\n",
       "                                        requirements  \n",
       "0  Job Requirements  Degree in Computer Science, ...  \n",
       "1  Job Requirements  Degree in Computer Science, ...  \n",
       "2  Minimum qualifications: - Bachelor’s degree in...  \n",
       "3  Requirements:     A bachelor’s degree in math,...  \n",
       "4  Qualifications • Advanced working SQL knowledg...  "
      ]
     },
     "execution_count": 17,
     "metadata": {},
     "output_type": "execute_result"
    }
   ],
   "source": [
    "df2.head()"
   ]
  },
  {
   "cell_type": "raw",
   "metadata": {},
   "source": [
    "# locate indexes of rows with requirements as NaN\n",
    "null_requirements = df2.requirements.isnull()\n",
    "print('no. of missing requirements {}'.format(null_requirements.sum()), '\\n')\n",
    "\n",
    "null_requirements_indexlist = [i for i,v in enumerate(list(null_requirements)) if v==True]\n",
    "print(null_requirements_indexlist[0:10],'\\n')\n",
    "\n",
    "# taking a look at rows with requirements as Nan\n",
    "df2.iloc[null_requirements_indexlist,:]\n",
    "\n",
    "# changing null values to undisclosed\n",
    "df2['requirements'].iloc[null_requirements_indexlist] = 'undisclosed'"
   ]
  },
  {
   "cell_type": "code",
   "execution_count": 18,
   "metadata": {},
   "outputs": [
    {
     "name": "stdout",
     "output_type": "stream",
     "text": [
      "no. of missing seniority 3 \n",
      "\n",
      "[612, 1081, 1441] \n",
      "\n"
     ]
    }
   ],
   "source": [
    "# locate indexes of rows with requirements as NaN\n",
    "null_seniority = df2.seniority.isnull()\n",
    "print('no. of missing seniority {}'.format(null_seniority.sum()), '\\n')\n",
    "\n",
    "null_seniority_indexlist = [i for i,v in enumerate(list(null_seniority)) if v==True]\n",
    "print(null_seniority_indexlist[0:10],'\\n')\n",
    "\n",
    "# taking a look at rows with requirements as Nan\n",
    "df2.iloc[null_seniority_indexlist,:]\n",
    "\n",
    "# changing null values to undisclosed\n",
    "df2['seniority'].iloc[null_seniority_indexlist] = 'undisclosed'"
   ]
  },
  {
   "cell_type": "code",
   "execution_count": 19,
   "metadata": {},
   "outputs": [],
   "source": [
    "# convert all string elements in jobs df to lowercase\n",
    "for col_name in list(df2.columns.values):\n",
    "    df2[col_name] = df2[col_name].map(lambda x: x.lower() if type(x) == str else x)"
   ]
  },
  {
   "cell_type": "code",
   "execution_count": 20,
   "metadata": {},
   "outputs": [
    {
     "data": {
      "text/html": [
       "<div>\n",
       "<style scoped>\n",
       "    .dataframe tbody tr th:only-of-type {\n",
       "        vertical-align: middle;\n",
       "    }\n",
       "\n",
       "    .dataframe tbody tr th {\n",
       "        vertical-align: top;\n",
       "    }\n",
       "\n",
       "    .dataframe thead th {\n",
       "        text-align: right;\n",
       "    }\n",
       "</style>\n",
       "<table border=\"1\" class=\"dataframe\">\n",
       "  <thead>\n",
       "    <tr style=\"text-align: right;\">\n",
       "      <th></th>\n",
       "      <th>company</th>\n",
       "      <th>job_title</th>\n",
       "      <th>location</th>\n",
       "      <th>employment_type</th>\n",
       "      <th>seniority</th>\n",
       "      <th>job_category</th>\n",
       "      <th>salary_range</th>\n",
       "      <th>salary_type</th>\n",
       "      <th>num_of_applications</th>\n",
       "      <th>last_posted_date</th>\n",
       "      <th>expiry</th>\n",
       "      <th>responsibilities</th>\n",
       "      <th>requirements</th>\n",
       "    </tr>\n",
       "  </thead>\n",
       "  <tbody>\n",
       "    <tr>\n",
       "      <th>0</th>\n",
       "      <td>kelly services (singapore) pte. ltd.</td>\n",
       "      <td>systems analyst (agile)</td>\n",
       "      <td>asia square tower 1, 8 marina view 018960</td>\n",
       "      <td>contract</td>\n",
       "      <td>professional</td>\n",
       "      <td>information technology</td>\n",
       "      <td>$9,000to$13,500</td>\n",
       "      <td>monthly</td>\n",
       "      <td>0 application</td>\n",
       "      <td>posted 30 jan 2019</td>\n",
       "      <td>closing on 01 mar 2019</td>\n",
       "      <td>job description   to build scalable and reliab...</td>\n",
       "      <td>job requirements  degree in computer science, ...</td>\n",
       "    </tr>\n",
       "    <tr>\n",
       "      <th>1</th>\n",
       "      <td>kelly services (singapore) pte. ltd.</td>\n",
       "      <td>systems analyst (agile)</td>\n",
       "      <td>asia square tower 1, 8 marina view 018960</td>\n",
       "      <td>contract</td>\n",
       "      <td>professional</td>\n",
       "      <td>information technology</td>\n",
       "      <td>$6,000to$9,000</td>\n",
       "      <td>monthly</td>\n",
       "      <td>0 application</td>\n",
       "      <td>posted 30 jan 2019</td>\n",
       "      <td>closing on 01 mar 2019</td>\n",
       "      <td>job description   to build scalable and reliab...</td>\n",
       "      <td>job requirements  degree in computer science, ...</td>\n",
       "    </tr>\n",
       "    <tr>\n",
       "      <th>2</th>\n",
       "      <td>google asia pacific pte. ltd.</td>\n",
       "      <td>data science lead, large customer sales - sing...</td>\n",
       "      <td>marina bay financial centre, 8 marina boulevar...</td>\n",
       "      <td>full time</td>\n",
       "      <td>executive</td>\n",
       "      <td>information technology</td>\n",
       "      <td>$7,700to$15,400</td>\n",
       "      <td>monthly</td>\n",
       "      <td>3 applications</td>\n",
       "      <td>posted 29 jan 2019</td>\n",
       "      <td>closing on 28 feb 2019</td>\n",
       "      <td>company overview: google is not a conventional...</td>\n",
       "      <td>minimum qualifications: - bachelor’s degree in...</td>\n",
       "    </tr>\n",
       "    <tr>\n",
       "      <th>3</th>\n",
       "      <td>trakomatic pte. ltd.</td>\n",
       "      <td>data analyst</td>\n",
       "      <td>alice@mediapolis, 29 media circle 138565</td>\n",
       "      <td>full time</td>\n",
       "      <td>professional</td>\n",
       "      <td>information technology</td>\n",
       "      <td>$3,500to$4,500</td>\n",
       "      <td>monthly</td>\n",
       "      <td>12 applications</td>\n",
       "      <td>posted 29 jan 2019</td>\n",
       "      <td>closing on 28 feb 2019</td>\n",
       "      <td>the retail data analyst will lead and perform ...</td>\n",
       "      <td>requirements:     a bachelor’s degree in math,...</td>\n",
       "    </tr>\n",
       "    <tr>\n",
       "      <th>4</th>\n",
       "      <td>intellect minds pte. ltd.</td>\n",
       "      <td>data engineer</td>\n",
       "      <td>anson centre, 51 anson road 079904</td>\n",
       "      <td>full time</td>\n",
       "      <td>executive</td>\n",
       "      <td>information technology</td>\n",
       "      <td>$5,000to$7,000</td>\n",
       "      <td>monthly</td>\n",
       "      <td>1 application</td>\n",
       "      <td>posted 29 jan 2019</td>\n",
       "      <td>closing on 28 feb 2019</td>\n",
       "      <td>company overview intellect minds is a singapor...</td>\n",
       "      <td>qualifications • advanced working sql knowledg...</td>\n",
       "    </tr>\n",
       "  </tbody>\n",
       "</table>\n",
       "</div>"
      ],
      "text/plain": [
       "                                company  \\\n",
       "0  kelly services (singapore) pte. ltd.   \n",
       "1  kelly services (singapore) pte. ltd.   \n",
       "2         google asia pacific pte. ltd.   \n",
       "3                  trakomatic pte. ltd.   \n",
       "4             intellect minds pte. ltd.   \n",
       "\n",
       "                                           job_title  \\\n",
       "0                            systems analyst (agile)   \n",
       "1                            systems analyst (agile)   \n",
       "2  data science lead, large customer sales - sing...   \n",
       "3                                       data analyst   \n",
       "4                                      data engineer   \n",
       "\n",
       "                                            location employment_type  \\\n",
       "0          asia square tower 1, 8 marina view 018960        contract   \n",
       "1          asia square tower 1, 8 marina view 018960        contract   \n",
       "2  marina bay financial centre, 8 marina boulevar...       full time   \n",
       "3           alice@mediapolis, 29 media circle 138565       full time   \n",
       "4                 anson centre, 51 anson road 079904       full time   \n",
       "\n",
       "      seniority            job_category     salary_range salary_type  \\\n",
       "0  professional  information technology  $9,000to$13,500     monthly   \n",
       "1  professional  information technology   $6,000to$9,000     monthly   \n",
       "2     executive  information technology  $7,700to$15,400     monthly   \n",
       "3  professional  information technology   $3,500to$4,500     monthly   \n",
       "4     executive  information technology   $5,000to$7,000     monthly   \n",
       "\n",
       "  num_of_applications    last_posted_date                  expiry  \\\n",
       "0       0 application  posted 30 jan 2019  closing on 01 mar 2019   \n",
       "1       0 application  posted 30 jan 2019  closing on 01 mar 2019   \n",
       "2      3 applications  posted 29 jan 2019  closing on 28 feb 2019   \n",
       "3     12 applications  posted 29 jan 2019  closing on 28 feb 2019   \n",
       "4       1 application  posted 29 jan 2019  closing on 28 feb 2019   \n",
       "\n",
       "                                    responsibilities  \\\n",
       "0  job description   to build scalable and reliab...   \n",
       "1  job description   to build scalable and reliab...   \n",
       "2  company overview: google is not a conventional...   \n",
       "3  the retail data analyst will lead and perform ...   \n",
       "4  company overview intellect minds is a singapor...   \n",
       "\n",
       "                                        requirements  \n",
       "0  job requirements  degree in computer science, ...  \n",
       "1  job requirements  degree in computer science, ...  \n",
       "2  minimum qualifications: - bachelor’s degree in...  \n",
       "3  requirements:     a bachelor’s degree in math,...  \n",
       "4  qualifications • advanced working sql knowledg...  "
      ]
     },
     "execution_count": 20,
     "metadata": {},
     "output_type": "execute_result"
    }
   ],
   "source": [
    "df2.head()"
   ]
  },
  {
   "cell_type": "code",
   "execution_count": 21,
   "metadata": {},
   "outputs": [],
   "source": [
    "# feature engineering - salary range column\n",
    "# replace the split lower and upper range, remove $ and , signs\n",
    "\n",
    "salary_list = df2['salary_range'].map(lambda x: str(x).replace('to',' ').replace('$','').replace(',','').split())\n",
    "lower = []\n",
    "upper = []\n",
    "\n",
    "for left_col in range(len(salary_list)):\n",
    "    lower.append(float(salary_list[left_col][0]))\n",
    "    \n",
    "for right_col in range(len(salary_list)):\n",
    "    if len(salary_list[right_col]) == 1:\n",
    "        upper.append(np.nan)\n",
    "    else:\n",
    "        upper.append(float(salary_list[right_col][1]))\n",
    "\n",
    "# standardizing salary periodicity as monthly for all salaries and calculate salaries as such\n",
    "salary_lower = [round(v/12,2) if df2['salary_type'][i] == 'annually' else v for i,v in enumerate(lower)]\n",
    "salary_upper = [round(v/12,2) if df2['salary_type'][i] == 'annually' else v for i,v in enumerate(upper)]\n",
    "\n",
    "# concat two new cols to jobs df\n",
    "df2['salary_lower_mth_num'] = salary_lower\n",
    "df2['salary_upper_mth_num'] = salary_upper "
   ]
  },
  {
   "cell_type": "code",
   "execution_count": 22,
   "metadata": {},
   "outputs": [
    {
     "name": "stdout",
     "output_type": "stream",
     "text": [
      "df shape: (1640, 16)\n"
     ]
    }
   ],
   "source": [
    "# include the mid value of salary range\n",
    "df2['salary_mid_mth_num'] = (df2.salary_lower_mth_num+df2.salary_upper_mth_num)/2\n",
    "\n",
    "print('df shape: {}'.format(df2.shape))"
   ]
  },
  {
   "cell_type": "code",
   "execution_count": 23,
   "metadata": {},
   "outputs": [
    {
     "name": "stdout",
     "output_type": "stream",
     "text": [
      "df shape: (1633, 16)\n"
     ]
    }
   ],
   "source": [
    "# remove duplicates in df\n",
    "df2 = df2.drop_duplicates()\n",
    "df2.reset_index(drop=True,inplace=True)\n",
    "\n",
    "print('df shape: {}'.format(df2.shape))"
   ]
  },
  {
   "cell_type": "code",
   "execution_count": 24,
   "metadata": {},
   "outputs": [
    {
     "data": {
      "image/png": "[encoded data removed]",
      "text/plain": [
       "<Figure size 720x432 with 1 Axes>"
      ]
     },
     "metadata": {
      "image/png": {
       "height": 405,
       "width": 642
      }
     },
     "output_type": "display_data"
    }
   ],
   "source": [
    "# distribution of mid salaries\n",
    "sns.set(rc={'figure.figsize':(10,6)},style='whitegrid',font_scale=1.5)\n",
    "sns.distplot(df2['salary_mid_mth_num'],kde=False,color='black',bins=26,).set_title('Distribution of Mid Salaries',color='Black')\n",
    "plt.ylabel('Number of roles',rotation=90,color='gray')\n",
    "plt.xlabel('Mid salaries',rotation=0,color='gray');"
   ]
  },
  {
   "cell_type": "code",
   "execution_count": 25,
   "metadata": {},
   "outputs": [
    {
     "name": "stdout",
     "output_type": "stream",
     "text": [
      "median_salary: 5750.0\n",
      "mean_salary: 6542.626662584202\n"
     ]
    }
   ],
   "source": [
    "median_salary = df2['salary_mid_mth_num'].median()\n",
    "mean_salary = df2['salary_mid_mth_num'].mean()\n",
    "print('median_salary: {}'.format(median_salary))\n",
    "print('mean_salary: {}'.format(mean_salary))"
   ]
  },
  {
   "cell_type": "code",
   "execution_count": 26,
   "metadata": {},
   "outputs": [],
   "source": [
    "# We shall define salaries above the median salary "
   ]
  },
  {
   "cell_type": "code",
   "execution_count": 27,
   "metadata": {},
   "outputs": [
    {
     "data": {
      "text/plain": [
       "count      1633.000000\n",
       "mean       6542.626663\n",
       "std        7454.477223\n",
       "min         650.000000\n",
       "25%        3750.000000\n",
       "50%        5750.000000\n",
       "75%        7500.000000\n",
       "max      180000.000000\n",
       "Name: salary_mid_mth_num, dtype: float64"
      ]
     },
     "execution_count": 27,
     "metadata": {},
     "output_type": "execute_result"
    }
   ],
   "source": [
    "df2['salary_mid_mth_num'].describe()"
   ]
  },
  {
   "cell_type": "code",
   "execution_count": 28,
   "metadata": {},
   "outputs": [
    {
     "data": {
      "text/plain": [
       "company                 8\n",
       "job_title               8\n",
       "location                8\n",
       "employment_type         8\n",
       "seniority               8\n",
       "job_category            8\n",
       "salary_range            8\n",
       "salary_type             8\n",
       "num_of_applications     8\n",
       "last_posted_date        8\n",
       "expiry                  8\n",
       "responsibilities        8\n",
       "requirements            8\n",
       "salary_lower_mth_num    8\n",
       "salary_upper_mth_num    8\n",
       "salary_mid_mth_num      8\n",
       "dtype: int64"
      ]
     },
     "execution_count": 28,
     "metadata": {},
     "output_type": "execute_result"
    }
   ],
   "source": [
    "# there seems to be 8 jobs with salaries above 30,000 per month\n",
    "\n",
    "df2[df2['salary_mid_mth_num'] >30000].count()"
   ]
  },
  {
   "cell_type": "code",
   "execution_count": 43,
   "metadata": {},
   "outputs": [
    {
     "name": "stdout",
     "output_type": "stream",
     "text": [
      "shape:(1625, 17)\n"
     ]
    }
   ],
   "source": [
    "# we will drop these outliers and reset index\n",
    "df2 = df2[df2['salary_mid_mth_num'] <30000]\n",
    "df2.reset_index(drop=True,inplace=True)\n",
    "print(\"shape:{}\".format(df2.shape))"
   ]
  },
  {
   "cell_type": "code",
   "execution_count": 30,
   "metadata": {},
   "outputs": [
    {
     "data": {
      "text/plain": [
       "array(['contract', 'full time', 'permanent', 'permanent, full time',\n",
       "       'permanent, contract', 'contract, full time', 'temporary',\n",
       "       'temporary, contract', 'permanent, contract, full time',\n",
       "       'part time, permanent, contract, freelance, full time',\n",
       "       'contract, internship', 'freelance', 'temporary, full time',\n",
       "       'part time, permanent, contract, full time',\n",
       "       'part time, temporary, contract, full time',\n",
       "       'freelance, full time, flexi work',\n",
       "       'temporary, contract, full time', 'internship',\n",
       "       'permanent, temporary, contract', 'part time',\n",
       "       'part time, full time', 'full time, flexi work',\n",
       "       'part time, permanent, full time', 'flexi work',\n",
       "       'part time, temporary, contract, full time, flexi work',\n",
       "       'part time, permanent, contract, freelance, flexi work',\n",
       "       'part time, permanent, full time, flexi work',\n",
       "       'part time, permanent, freelance, full time, internship'],\n",
       "      dtype=object)"
      ]
     },
     "execution_count": 30,
     "metadata": {},
     "output_type": "execute_result"
    }
   ],
   "source": [
    "# clean up the employment types\n",
    "df2.employment_type.unique()"
   ]
  },
  {
   "cell_type": "code",
   "execution_count": 31,
   "metadata": {},
   "outputs": [],
   "source": [
    "import re\n",
    "\n",
    "def replace(string, substitutions):\n",
    "    substrings = sorted(substitutions, key=len, reverse=True)\n",
    "    regex = re.compile('|'.join(map(re.escape, substrings)))\n",
    "    return regex.sub(lambda match: substitutions[match.group(0)], string)"
   ]
  },
  {
   "cell_type": "code",
   "execution_count": 32,
   "metadata": {},
   "outputs": [
    {
     "data": {
      "text/plain": [
       "full time               1391\n",
       "contract                 214\n",
       "part time and others      20\n",
       "Name: employment_type, dtype: int64"
      ]
     },
     "execution_count": 32,
     "metadata": {},
     "output_type": "execute_result"
    }
   ],
   "source": [
    "# arrange the job columns\n",
    "employment_type_replace = {'permanent':\"full time\",\n",
    "                           'part time': \"part time and others\",\n",
    "                           'permanent, full time': \"full time\",\n",
    "        'permanent, contract' : \"contract\", \n",
    "        'contract, full time': \"full time\", \n",
    "        'temporary':\"part time and others\",\n",
    "        'temporary, contract':\"contract\", \n",
    "        'permanent, contract, full time': \"full time\",\n",
    "        'part time, permanent, contract, freelance, full time': \"full time\",\n",
    "        'contract, internship':'part time and others', \n",
    "        'freelance':\"part time and others\", \n",
    "        'temporary, full time': \"full time\",\n",
    "        'part time, permanent, contract, full time': \"full time\",\n",
    "        'part time, temporary, contract, full time': \"full time\",\n",
    "        'freelance, full time, flexi work': \"full time\",\n",
    "        'temporary, contract, full time': \"full time\", \n",
    "        'internship':\"part time and others\",\n",
    "        'permanent, temporary, contract': \"contract\", \n",
    "        'part time': \"part time and others\",\n",
    "        'part time, full time': \"full time\", \n",
    "        'full time, flexi work': \"full time\",\n",
    "        'part time, permanent, full time': \"full time\", \n",
    "        'flexi work': \"part time and others\",\n",
    "        'part time, temporary, contract, full time, flexi work':\"full time\",\n",
    "        'part time, permanent, contract, freelance, flexi work':\"part time and others\",\n",
    "        'part time, permanent, full time, flexi work':\"full time\",\n",
    "        'part time, permanent, freelance, full time, internship':\"full time\"}\n",
    "\n",
    "df2['employment_type']=df2['employment_type'].apply(lambda x : str(x))\n",
    "df2['employment_type']=df2['employment_type'].apply(lambda x : replace(x, employment_type_replace))\n",
    "#check the value_counts of the job columns\n",
    "df2['employment_type'].value_counts(dropna=False)"
   ]
  },
  {
   "cell_type": "code",
   "execution_count": 35,
   "metadata": {},
   "outputs": [
    {
     "data": {
      "text/plain": [
       "<matplotlib.axes._subplots.AxesSubplot at 0x1a1913e198>"
      ]
     },
     "execution_count": 35,
     "metadata": {},
     "output_type": "execute_result"
    },
    {
     "data": {
      "image/png": "[encoded data removed]",
      "text/plain": [
       "<Figure size 720x432 with 1 Axes>"
      ]
     },
     "metadata": {
      "image/png": {
       "height": 389,
       "width": 761
      }
     },
     "output_type": "display_data"
    }
   ],
   "source": [
    "#Create a figure instance\n",
    "fig = plt.figure(figsize=(10,6))\n",
    "\n",
    "#Create an axes instance\n",
    "ax = fig.gca()\n",
    "\n",
    "#Create the boxplot\n",
    "sns.boxplot(x=df2['salary_mid_mth_num'], y=df2['employment_type'], orient=\"h\")"
   ]
  },
  {
   "cell_type": "code",
   "execution_count": 36,
   "metadata": {},
   "outputs": [
    {
     "data": {
      "text/plain": [
       "<matplotlib.axes._subplots.AxesSubplot at 0x1a191d1668>"
      ]
     },
     "execution_count": 36,
     "metadata": {},
     "output_type": "execute_result"
    },
    {
     "data": {
      "image/png": "[encoded data removed]",
      "text/plain": [
       "<Figure size 720x360 with 1 Axes>"
      ]
     },
     "metadata": {
      "image/png": {
       "height": 390,
       "width": 602
      }
     },
     "output_type": "display_data"
    }
   ],
   "source": [
    "df2.groupby(['employment_type'])['salary_mid_mth_num'].mean().sort_values(ascending=False).plot(kind='bar', \n",
    "            figsize=(10,5), \n",
    "            fontsize=8)"
   ]
  },
  {
   "cell_type": "code",
   "execution_count": null,
   "metadata": {},
   "outputs": [],
   "source": [
    "# Full time employment provides the highest remuneration followed by contract roles"
   ]
  },
  {
   "cell_type": "code",
   "execution_count": 89,
   "metadata": {},
   "outputs": [
    {
     "data": {
      "text/plain": [
       "array(['job description to build scalable and reliable batch and streaming data pipelines to support data analytics applications',\n",
       "       'job description to build scalable and reliable batch and streaming data pipelines to support data analytics applications',\n",
       "       'company overview google is not a conventional company and we don t intend to become one true we share attributes with the world s most successful organizations a focus on innovation and smart business practices comes to mind but even as we continue to grow we re committed to retaining a small company feel at google we know that every employee has something important to say and that every employee is integral to our success we provide individually tailored compensation packages that can be comprised of competitive salary bonus and equity components along with the opportunity to earn further financial bonuses and rewards googlers thrive in small focused teams and high energy environments believe in the ability of technology to change the world and are as passionate about their lives as they are about their work for more information visit www google com careers the area large customer sales lcs our large customer sales teams partner closely with many of the world s biggest advertisers and agencies to develop digital solutions that build businesses and brands we enjoy a bird s eye view on the massive transformation occurring as advertising shifts to mobile and online platforms we re uniquely situated to help shape how companies grow their businesses in the digital age we advise clients on google s broad range of products across search video and mobile to help them connect instantly and seamlessly with their audiences the role data science lead large customer sales singapore at google data drives all of our decision making quantitative analysts work all across the organization to help shape google s business and technical strategies by processing analyzing and interpreting huge data sets using analytical rigor and statistical methods you mine through data to identify opportunities for google and our clients to operate more efficiently from enhancing advertising efficacy to network infrastructure optimization to studying user behavior as an analyst you do more than just crunch the numbers you work with engineers product managers sales associates and marketing teams to adjust google s practices according to your findings identifying the problem is only half the job you also figure out the solution additional role description as a data science lead you ll be a key member of google large customer sales the team that manages google s business relationship with global advertisers as a data science lead you will generate actionable insights and solutions that drive business results by applying data science techniques and machine learning models to google data customers data and 3rd party data by working closely with customers marketing data science business intelligence and customer relationship management crm teams you will develop an understanding of the key opportunities and challenges they face you will scope execute and take full ownership of projects that will leverage google s cutting edge data science techniques and machine learning models to help customers solve their most pressing challenges defining and scaling solutions to optimize marketing effectiveness attribution models creative excellence and lifetime value ltv responsibilities analyze google data customers data and third party data to identify new data driven business opportunities estimating value and resources required by customers and google deliver projects end to end working with customers teams to gather and prepare data features to analyze data with programming statistical languages e g r python and generate insights to choose and deploy machine learning models solving for the business opportunities identified work with account management teams to ensure that recommended solutions deliver expected performance improvements for customers also by designing and executing experiments resulting in accelerated google media investments by customers collaborate with gtech customer solutions engineers and customers engineering teams to implement and scale the solutions identified scale to other customers and sectors act as data science advocate within google singapore large customer sales advising and coaching analytical teams sharing best practices and case studies helping to lift the overall literacy develop collaborations with gtech cloud product engineering teams as relevant',\n",
       "       ...,\n",
       "       'in this role the senior business intelligence analyst serves as the primary bridge through the business to communicate high value information to support data driven decision making he she will continuously evolve management reporting conduct complex data analysis and deliver business insights in an environment of rapid growth and increasing complexity the successful candidate must be able to roll up his her sleeves and work directly with large datasets and bi tools to solve challenging problems he she will be passionate about their work detail oriented highly analytical and have excellent problem solving skills job responsibilities participate in the full lifecycle of an analytics or bi project from gathering and understanding the end user needs to implement a fully automated solution develop and provision of bi reporting through the deployment of self service reports and dashboards engages with business users as well as maintain a client relationship with data warehouse deploy machine learning techniques to answer the appropriate business questions using r or python visualize data using tableau and create repeatable visual analysis for end users to use as tools take ownership of the existing bi platforms and maintain the data integrity and accuracy of the numbers and data sources know agile scrum project management experience knowledge ability to prioritise pushback and effectively manage a product and sprint backlog',\n",
       "       'job purpose lead and drive advances in technology and methods of processing and managing information in conjunction with group md and hods and in subsidiaries where relevant plan identify and capture data and data analytics big data to facilitate the vertical and horizontal integration of the enterprise job duties examine key processes of all functions and how technology and data works educate source for and recommend hardware and software systems that will move the company appropriately towards industry 4 0 review vendor proposals and makes sound decisions based on inter connectivity internally and inter operability across business units scale ability price etc manage adoption maintenance and renewal of it infrastructure and telecommunications systems whether directly or through outsource vendors including computers mobile devices telephones and other voice and data communication methods',\n",
       "       'what we do technology is transforming people s lives and behaviours are continually evolving as devices get smarter services grow richer and societies become more connected all aspects of our everyday lives have turned digital and this creates a tremendous responsibility for communications service providers csps which provide the essential connectivity that enable us to be connected all the time anytime and from anywhere at niometrics we modernise how csps explore digital data building solutions to help them grow their businesses serve their customers better and contribute to social growth we partner with some of the largest telcos in the world and dozens of clients depend on our solutions on a day to day basis to take timely decisions that will impact people s digital experiences the responsibility is high and the quality of these decisions is as good as the quality accuracy and reliability of our analytics solutions accessibility completeness and timeless of the data and insights we provide is crucial this is our mission our quality assurance team strive for precision and excellence we are here to ensure that we build high quality softwares delivering only the best to our clients we invite you to be part of our close knit engineering team building reliable performance oriented and easy to use softwares we test the systems that show how hundreds of millions of digital users cluster into micro segments how they move about on their daily lives and what their next predicted actions will be to effectively test our products you need to be able to read and write code you are knowledgeable about web application architecture data communication protocols and software development lifecycle your role as quality assurance tester as qa tester you will assess software quality through manual and automated testing and be responsible for finding and reporting bugs and glitches you will help to troubleshoot issues report bugs and errors to development teams you will create maintain and perform test cases on existing and new products you will achieve this by working closely with qa engineers development and product teams you will be the product champion who performs data validation testing as well as visual testing to make sure that screens workflows and data representations align to product requirements'],\n",
       "      dtype=object)"
      ]
     },
     "execution_count": 89,
     "metadata": {},
     "output_type": "execute_result"
    }
   ],
   "source": [
    "# Clean up the responsibilities column\n",
    "import re\n",
    "df2[\"responsibilities\"] = df2[\"responsibilities\"].apply(lambda x : str(x))\n",
    "df2[\"responsibilities\"] = df2[\"responsibilities\"].apply(lambda x : re.sub('\\W+',' ', x).lower()) #remove punctuations and lower text\n",
    "df2[\"responsibilities\"] = df2[\"responsibilities\"].apply(lambda x: \" \".join(x.split())) #remove additional spaces\n",
    "df2[\"responsibilities\"].values"
   ]
  },
  {
   "cell_type": "code",
   "execution_count": 90,
   "metadata": {},
   "outputs": [
    {
     "data": {
      "text/plain": [
       "array(['job requirements degree in computer science computer engineering or equivalent at least 5 8 years of experience building scalable and reliable batch and streaming data pipeline strong competency in sql python programming linux shell scripting knowledge of data management etl tool services from amazon web services e g athena glue kinesys redshift google cloud platform e g big query bi tools e g sisense tableau would be an advantage able to work independently with minimal supervision good verbal and written communication skills',\n",
       "       'job requirements degree in computer science computer engineering or equivalent at least 5 8 years of experience building scalable and reliable batch and streaming data pipeline strong competency in sql python programming linux shell scripting knowledge of data management etl tool services from amazon web services e g athena glue kinesys redshift google cloud platform e g big query bi tools e g sisense tableau would be an advantage able to work independently with minimal supervision good verbal and written communication skills',\n",
       "       'minimum qualifications bachelor s degree in statistics mathematics computer science or related field or equivalent practical experience 4 years of experience in data science advanced analytics statistical modeling experience working for apps e commerce fintech gaming travel and or ride hailing companies experience in sql and statistical programming languages e g r python experience in solving complex problems and defining and testing hypotheses to generate insights that drive business results experience in translating data science concepts into business recommendations and communicating effectively to business leaders preferred qualifications master s or phd degree in statistics mathematics computer science or similar fields understanding of digital marketing and experience working with data to solve marketing problems including audience targeting bidding creatives optimization and measurement and attribution client facing experience with the ability to manage relationships with client data engineering teams team leading experience with a focus on building and managing small teams of data scientists experience in deploying machine learning solutions based on tensorflow or equivalent tools knowledge of machine learning models and techniques including data cleansing normalization feature engineering model training validation and automation',\n",
       "       ...,\n",
       "       'minimum bachelor s degree in a quantitative field is required engineering or economics 3 years of experience in business intelligence or any data analysis related role experience with tableau powerbi or any standard data visualization tools proficiency with at least one scripting language python or r is required should be comfortable in writing sql queries to extract data for data analysis exhibits sound business judgment a proven ability to influence others strong analytical skills and a proven track record of taking ownership leading data driven analyses and influencing results exposure to advanced analytics techniques for forecasting regression and other basic machine learning techniques ecommerce logistics fashion retail background a bonus experience in marketing analytics and attribution modelling is a bonus',\n",
       "       'master s degree in an information technology area or equivalent candidate should also hold a bachelor degree in science engineering or technology as well possess at least 10 years experience in it areas candidate must possess at least bachelor s degree post graduate diploma professional degree in science technology or equivalent preferably senior manager specialized in it computer network system database admin or equivalent',\n",
       "       'what we value bachelor s degree and above in computer science informatics engineering or other related engineering discipline fresh graduates are welcome to apply deep knowledge of test methodologies writing test plans creating test cases and debugging experience in data analysis tools proficiency with telecommunication technology 4g lte and 3g coding experience in python html css javascript proficiency with linux system development tools'],\n",
       "      dtype=object)"
      ]
     },
     "execution_count": 90,
     "metadata": {},
     "output_type": "execute_result"
    }
   ],
   "source": [
    "# Clean up the requirements column\n",
    "import re\n",
    "df2[\"requirements\"] = df2[\"requirements\"].apply(lambda x : str(x))\n",
    "df2[\"requirements\"] = df2[\"requirements\"].apply(lambda x : re.sub('\\W+',' ', x).lower()) #remove punctuations and lower text\n",
    "df2[\"requirements\"] = df2[\"requirements\"].apply(lambda x: \" \".join(x.split())) #remove additional spaces\n",
    "df2[\"requirements\"].values"
   ]
  },
  {
   "cell_type": "markdown",
   "metadata": {},
   "source": [
    "## Create decision boundary based on median of salary_mid_mth_num\n",
    "- High salary is assigned to target if salary_mid_mth_num is greater than or equal to median of salary_mid_mth_num\n",
    "\n",
    "- Lower salary is assigned otherwise"
   ]
  },
  {
   "cell_type": "code",
   "execution_count": 47,
   "metadata": {},
   "outputs": [
    {
     "name": "stdout",
     "output_type": "stream",
     "text": [
      "number of jobs above median: 1625 \n",
      "\n"
     ]
    },
    {
     "data": {
      "text/plain": [
       "1    836\n",
       "0    789\n",
       "Name: target, dtype: int64"
      ]
     },
     "execution_count": 47,
     "metadata": {},
     "output_type": "execute_result"
    }
   ],
   "source": [
    "# Create a new feature called target with decision boundaries aboved\n",
    "target = []\n",
    "\n",
    "for i in range(df2.shape[0]):\n",
    "    if df2['salary_mid_mth_num'][i]>= np.median(df2['salary_mid_mth_num']):\n",
    "        target.append(1)\n",
    "    else:\n",
    "        target.append(0)\n",
    "        \n",
    "df2['target'] = target\n",
    "\n",
    "print('number of jobs above median: {}'.format(len(target)),'\\n')\n",
    "\n",
    "df2['target'].value_counts()"
   ]
  },
  {
   "cell_type": "code",
   "execution_count": 55,
   "metadata": {},
   "outputs": [
    {
     "name": "stdout",
     "output_type": "stream",
     "text": [
      "baseline is class 1: 0.5144615384615384\n"
     ]
    }
   ],
   "source": [
    "# Calculate the baseline\n",
    "if df2['target'].value_counts()[0] > df2['target'].value_counts()[1]:\n",
    "    print('baseline is class 0: {}'.format(df2['target'].value_counts()[0]/len(df2)))\n",
    "else:\n",
    "    print('baseline is class 1: {}'.format(df2['target'].value_counts()[1]/len(df2)))"
   ]
  },
  {
   "cell_type": "code",
   "execution_count": 56,
   "metadata": {},
   "outputs": [],
   "source": [
    "# Save df2 to .csvfile\n",
    "df2.to_csv('df2.csv',index=False)"
   ]
  },
  {
   "cell_type": "code",
   "execution_count": 99,
   "metadata": {},
   "outputs": [
    {
     "name": "stdout",
     "output_type": "stream",
     "text": [
      "X_train shape: (1137,) \n",
      "\n",
      "Random Forest score: 0.7827868852459017\n",
      "cross-validation score: 0.748\n",
      "             precision    recall  f1-score   support\n",
      "\n",
      "          0       0.79      0.74      0.77       233\n",
      "          1       0.78      0.82      0.80       255\n",
      "\n",
      "avg / total       0.78      0.78      0.78       488\n",
      "\n"
     ]
    }
   ],
   "source": [
    "# Create train test split using job title\n",
    "X = df2.job_title\n",
    "y = df2.target\n",
    "\n",
    "X_train, X_test, y_train, y_test = train_test_split(X, y, test_size=0.3, random_state=1)\n",
    "\n",
    "print('X_train shape: {}'.format(X_train.shape),'\\n')\n",
    "\n",
    "# Create a pipeline to verctorize and use random forest classifier\n",
    "cvt = CountVectorizer(stop_words='english')\n",
    "pipeline = Pipeline([\n",
    "    ('vect', cvt),\n",
    "    ('tfidf', TfidfTransformer()),\n",
    "    ('rf', RandomForestClassifier(n_estimators=100,random_state=42))\n",
    "])\n",
    "\n",
    "pipeline.fit(X_train,y_train)\n",
    "predicted = pipeline.predict(X_test)\n",
    "print(\"Random Forest score: {}\".format(pipeline.score(X_test,y_test)))\n",
    "\n",
    "#cross validate\n",
    "scores = cross_val_score(pipeline, X_train, y_train, cv=5)\n",
    "print('cross-validation score: {}'.format(round(np.mean(scores),3), round(np.std(scores),3)))\n",
    "\n",
    "print(classification_report((y_test),predicted))"
   ]
  },
  {
   "cell_type": "code",
   "execution_count": 101,
   "metadata": {},
   "outputs": [
    {
     "name": "stdout",
     "output_type": "stream",
     "text": [
      "X_train shape: (1137,) \n",
      "\n",
      "logistic regression score: 0.7766393442622951\n",
      "cross-validation score: 0.745\n",
      "             precision    recall  f1-score   support\n",
      "\n",
      "          0       0.79      0.73      0.76       233\n",
      "          1       0.77      0.82      0.79       255\n",
      "\n",
      "avg / total       0.78      0.78      0.78       488\n",
      "\n"
     ]
    }
   ],
   "source": [
    "# Create train test split\n",
    "X = df2.job_title\n",
    "y = df2.target\n",
    "\n",
    "X_train, X_test, y_train, y_test = train_test_split(X, y, test_size=0.3, random_state=1)\n",
    "\n",
    "print('X_train shape: {}'.format(X_train.shape),'\\n')\n",
    "\n",
    "# Create a pipeline using logistic regression\n",
    "cvt = CountVectorizer(stop_words='english')\n",
    "pipeline = Pipeline([\n",
    "    ('vect', cvt),\n",
    "    ('tfidf', TfidfTransformer()),\n",
    "    ('cls', LogisticRegression())\n",
    "])\n",
    "\n",
    "pipeline.fit(X_train,y_train)\n",
    "predicted = pipeline.predict(X_test)\n",
    "print(\"logistic regression score: {}\".format(pipeline.score(X_test,y_test)))  \n",
    "\n",
    "#cross validate\n",
    "scores = cross_val_score(pipeline, X_train, y_train, cv=5)\n",
    "print('cross-validation score: {}'.format(round(np.mean(scores),3), round(np.std(scores),3)))\n",
    "print(classification_report((y_test),predicted))"
   ]
  },
  {
   "cell_type": "code",
   "execution_count": 102,
   "metadata": {},
   "outputs": [
    {
     "name": "stdout",
     "output_type": "stream",
     "text": [
      "X_train shape: (1137,) \n",
      "\n",
      "Random Forest score: 0.7725409836065574\n",
      "cross-validation score: 0.767\n",
      "             precision    recall  f1-score   support\n",
      "\n",
      "          0       0.77      0.76      0.76       233\n",
      "          1       0.78      0.79      0.78       255\n",
      "\n",
      "avg / total       0.77      0.77      0.77       488\n",
      "\n"
     ]
    }
   ],
   "source": [
    "# Create train test split using requirements\n",
    "X = df2.requirements\n",
    "y = df2.target\n",
    "\n",
    "X_train, X_test, y_train, y_test = train_test_split(X, y, test_size=0.3, random_state=1)\n",
    "\n",
    "print('X_train shape: {}'.format(X_train.shape),'\\n')\n",
    "\n",
    "# Create a pipeline to verctorize and use random forest classifier\n",
    "cvt = CountVectorizer(stop_words='english')\n",
    "pipeline = Pipeline([\n",
    "    ('vect', cvt),\n",
    "    ('tfidf', TfidfTransformer()),\n",
    "    ('rf', RandomForestClassifier(n_estimators=100,random_state=42))\n",
    "])\n",
    "\n",
    "pipeline.fit(X_train,y_train)\n",
    "predicted = pipeline.predict(X_test)\n",
    "print(\"Random Forest score: {}\".format(pipeline.score(X_test,y_test)))\n",
    "\n",
    "#cross validate\n",
    "scores = cross_val_score(pipeline, X_train, y_train, cv=5)\n",
    "print('cross-validation score: {}'.format(round(np.mean(scores),3), round(np.std(scores),3)))\n",
    "print(classification_report((y_test),predicted))"
   ]
  },
  {
   "cell_type": "code",
   "execution_count": 103,
   "metadata": {},
   "outputs": [
    {
     "name": "stdout",
     "output_type": "stream",
     "text": [
      "X_train shape: (1137,) \n",
      "\n",
      "logistic regression score: 0.7889344262295082\n",
      "cross-validation score: 0.779\n",
      "             precision    recall  f1-score   support\n",
      "\n",
      "          0       0.82      0.71      0.76       233\n",
      "          1       0.77      0.86      0.81       255\n",
      "\n",
      "avg / total       0.79      0.79      0.79       488\n",
      "\n"
     ]
    }
   ],
   "source": [
    "# Create train test split\n",
    "X = df2.requirements\n",
    "y = df2.target\n",
    "\n",
    "X_train, X_test, y_train, y_test = train_test_split(X, y, test_size=0.3, random_state=1)\n",
    "\n",
    "print('X_train shape: {}'.format(X_train.shape),'\\n')\n",
    "\n",
    "# Create a pipeline using logistic regression\n",
    "cvt = CountVectorizer(stop_words='english')\n",
    "pipeline = Pipeline([\n",
    "    ('vect', cvt),\n",
    "    ('tfidf', TfidfTransformer()),\n",
    "    ('cls', LogisticRegression())\n",
    "])\n",
    "\n",
    "pipeline.fit(X_train,y_train)\n",
    "predicted = pipeline.predict(X_test)\n",
    "print(\"logistic regression score: {}\".format(pipeline.score(X_test,y_test)))  \n",
    "\n",
    "#cross validate\n",
    "scores = cross_val_score(pipeline, X_train, y_train, cv=5)\n",
    "print('cross-validation score: {}'.format(round(np.mean(scores),3), round(np.std(scores),3)))\n",
    "print(classification_report((y_test),predicted))"
   ]
  },
  {
   "cell_type": "code",
   "execution_count": 104,
   "metadata": {},
   "outputs": [
    {
     "name": "stdout",
     "output_type": "stream",
     "text": [
      "X_train shape: (1137,) \n",
      "\n",
      "Random Forest score: 0.7766393442622951\n",
      "cross-validation score: 0.77\n"
     ]
    }
   ],
   "source": [
    "# Create train test split using requirements\n",
    "X = df2.responsibilities\n",
    "y = df2.target\n",
    "\n",
    "X_train, X_test, y_train, y_test = train_test_split(X, y, test_size=0.3, random_state=1)\n",
    "\n",
    "print('X_train shape: {}'.format(X_train.shape),'\\n')\n",
    "\n",
    "# Create a pipeline to verctorize and use random forest classifier\n",
    "cvt = CountVectorizer(stop_words='english')\n",
    "pipeline = Pipeline([\n",
    "    ('vect', cvt),\n",
    "    ('tfidf', TfidfTransformer()),\n",
    "    ('rf', RandomForestClassifier(n_estimators=100,random_state=42))\n",
    "])\n",
    "\n",
    "pipeline.fit(X_train,y_train)\n",
    "predicted = pipeline.predict(X_test)\n",
    "print(\"Random Forest score: {}\".format(pipeline.score(X_test,y_test)))\n",
    "\n",
    "#cross validate\n",
    "scores = cross_val_score(pipeline, X_train, y_train, cv=5)\n",
    "print('cross-validation score: {}'.format(round(np.mean(scores),3), round(np.std(scores),3)))"
   ]
  },
  {
   "cell_type": "code",
   "execution_count": 105,
   "metadata": {},
   "outputs": [
    {
     "name": "stdout",
     "output_type": "stream",
     "text": [
      "X_train shape: (1137,) \n",
      "\n",
      "logistic regression score: 0.7848360655737705\n",
      "cross-validation score: 0.763\n",
      "             precision    recall  f1-score   support\n",
      "\n",
      "          0       0.79      0.74      0.77       233\n",
      "          1       0.78      0.82      0.80       255\n",
      "\n",
      "avg / total       0.79      0.78      0.78       488\n",
      "\n"
     ]
    }
   ],
   "source": [
    "# Create train test split\n",
    "X = df2.responsibilities\n",
    "y = df2.target\n",
    "\n",
    "X_train, X_test, y_train, y_test = train_test_split(X, y, test_size=0.3, random_state=1)\n",
    "\n",
    "print('X_train shape: {}'.format(X_train.shape),'\\n')\n",
    "\n",
    "# Create a pipeline using logistic regression\n",
    "cvt = CountVectorizer(stop_words='english')\n",
    "pipeline = Pipeline([\n",
    "    ('vect', cvt),\n",
    "    ('tfidf', TfidfTransformer()),\n",
    "    ('cls', LogisticRegression())\n",
    "])\n",
    "\n",
    "pipeline.fit(X_train,y_train)\n",
    "predicted = pipeline.predict(X_test)\n",
    "print(\"logistic regression score: {}\".format(pipeline.score(X_test,y_test)))  \n",
    "\n",
    "#cross validate\n",
    "scores = cross_val_score(pipeline, X_train, y_train, cv=5)\n",
    "print('cross-validation score: {}'.format(round(np.mean(scores),3), round(np.std(scores),3)))\n",
    "print(classification_report((y_test),predicted))"
   ]
  },
  {
   "cell_type": "code",
   "execution_count": null,
   "metadata": {},
   "outputs": [],
   "source": [
    "# Logistic regression on job requirements seem to give the best score of 0.779"
   ]
  },
  {
   "cell_type": "markdown",
   "metadata": {},
   "source": [
    "## Question 2"
   ]
  },
  {
   "cell_type": "code",
   "execution_count": 115,
   "metadata": {},
   "outputs": [
    {
     "name": "stdout",
     "output_type": "stream",
     "text": [
      "len data_index: 41 \n",
      "\n"
     ]
    },
    {
     "data": {
      "text/plain": [
       "data scientist                                                                28\n",
       "senior data scientist                                                          3\n",
       "lead data scientist                                                            2\n",
       "associate  /  senior data scientist                                            1\n",
       "data scientist (62913)                                                         1\n",
       "data scientist - information technology                                        1\n",
       "senior  /  staff data scientist                                                1\n",
       "data scientist  /  application production engineer                             1\n",
       "avp, data scientist, business analytics, consumer banking group (180004xi)     1\n",
       "data scientist / engineer                                                      1\n",
       "senior analytics manager - data scientist                                      1\n",
       "Name: job_title, dtype: int64"
      ]
     },
     "execution_count": 115,
     "metadata": {},
     "output_type": "execute_result"
    }
   ],
   "source": [
    "# Extract job titles with the words data scientist in them\n",
    "\n",
    "data_index = []\n",
    "\n",
    "for i in range(df2.shape[0]):\n",
    "    try:\n",
    "        if re.findall(r'\\bdata scientist\\b',df2['job_title'][i])[0] == 'data scientist':\n",
    "            data_index.append(i)\n",
    "    except:\n",
    "        pass\n",
    "\n",
    "    \n",
    "print('len data_index: {}'.format(len(data_index)),'\\n')\n",
    "\n",
    "df2.iloc[data_index,:]['job_title'].value_counts()"
   ]
  },
  {
   "cell_type": "markdown",
   "metadata": {},
   "source": [
    "## Create a decision boundary based on job titles that contain the word 'data scientist'\n",
    "    - Class of 1 is assigned to target if job title contains the word 'data scientist'\n",
    "    \n",
    "    - Class of 0 is assigned otherwise"
   ]
  },
  {
   "cell_type": "code",
   "execution_count": 117,
   "metadata": {},
   "outputs": [
    {
     "name": "stdout",
     "output_type": "stream",
     "text": [
      "shape: (1625, 19)\n"
     ]
    }
   ],
   "source": [
    "# concat 'target_jobtitle' column to dfs as target for job titles\n",
    "df2['target_jobtitle'] = 0\n",
    "\n",
    "df2.loc[data_index,'target_jobtitle'] = 1\n",
    "\n",
    "print('shape: {}'.format(df2.shape))"
   ]
  },
  {
   "cell_type": "code",
   "execution_count": 128,
   "metadata": {},
   "outputs": [
    {
     "name": "stdout",
     "output_type": "stream",
     "text": [
      "jobtitle1 shape: (41, 19) \n",
      "\n",
      "jobtitle0 shape: (1584, 19) \n",
      "\n",
      "1    1584\n",
      "0    1584\n",
      "Name: target_jobtitle, dtype: int64 \n",
      "\n"
     ]
    }
   ],
   "source": [
    "jobtitle1 = df2[df2['target_jobtitle'] == 1]\n",
    "jobtitle0 = df2[df2['target_jobtitle'] == 0]\n",
    "\n",
    "print('jobtitle1 shape: {}'.format(jobtitle1.shape),'\\n')\n",
    "print('jobtitle0 shape: {}'.format(jobtitle0.shape),'\\n')\n",
    "\n",
    "# oversample jobtitle1 to address class imbalance\n",
    "jobtitle1_over = jobtitle1.sample(1584,replace=True)\n",
    "\n",
    "jobtitle_over = pd.concat([jobtitle0,jobtitle1_over],axis=0)\n",
    "jobtitle_over.reset_index(drop=True,inplace=True)\n",
    "\n",
    "print(jobtitle_over['target_jobtitle'].value_counts(),'\\n')"
   ]
  },
  {
   "cell_type": "code",
   "execution_count": 129,
   "metadata": {},
   "outputs": [
    {
     "name": "stdout",
     "output_type": "stream",
     "text": [
      "X_train shape: (2217,) \n",
      "\n",
      "Random Forest score: 0.9863301787592008\n",
      "cross-validation score: 0.985\n",
      "             precision    recall  f1-score   support\n",
      "\n",
      "          0       0.97      1.00      0.99       494\n",
      "          1       1.00      0.97      0.99       457\n",
      "\n",
      "avg / total       0.99      0.99      0.99       951\n",
      "\n"
     ]
    }
   ],
   "source": [
    "# Create train test split using requirements\n",
    "X = jobtitle_over.requirements\n",
    "y = jobtitle_over.target_jobtitle\n",
    "\n",
    "X_train, X_test, y_train, y_test = train_test_split(X, y, test_size=0.3, random_state=1)\n",
    "\n",
    "print('X_train shape: {}'.format(X_train.shape),'\\n')\n",
    "\n",
    "# Create a pipeline to verctorize and use random forest classifier\n",
    "cvt = CountVectorizer(stop_words='english')\n",
    "pipeline = Pipeline([\n",
    "    ('vect', cvt),\n",
    "    ('tfidf', TfidfTransformer()),\n",
    "    ('rf', RandomForestClassifier(n_estimators=100,random_state=42))\n",
    "])\n",
    "\n",
    "pipeline.fit(X_train,y_train)\n",
    "predicted = pipeline.predict(X_test)\n",
    "print(\"Random Forest score: {}\".format(pipeline.score(X_test,y_test)))\n",
    "\n",
    "#cross validate\n",
    "scores = cross_val_score(pipeline, X_train, y_train, cv=5)\n",
    "print('cross-validation score: {}'.format(round(np.mean(scores),3), round(np.std(scores),3)))\n",
    "print(classification_report((y_test),predicted))"
   ]
  },
  {
   "cell_type": "code",
   "execution_count": 131,
   "metadata": {},
   "outputs": [
    {
     "name": "stdout",
     "output_type": "stream",
     "text": [
      "X_train shape: (2217,) \n",
      "\n",
      "logistic regression score: 0.9779179810725552\n",
      "cross-validation score: 0.981\n",
      "             precision    recall  f1-score   support\n",
      "\n",
      "          0       0.97      0.98      0.98       494\n",
      "          1       0.98      0.97      0.98       457\n",
      "\n",
      "avg / total       0.98      0.98      0.98       951\n",
      "\n"
     ]
    }
   ],
   "source": [
    "# Create train test split using requirements\n",
    "X = jobtitle_over.requirements\n",
    "y = jobtitle_over.target_jobtitle\n",
    "\n",
    "X_train, X_test, y_train, y_test = train_test_split(X, y, test_size=0.3, random_state=1)\n",
    "\n",
    "print('X_train shape: {}'.format(X_train.shape),'\\n')\n",
    "\n",
    "# Create a pipeline using logistic regression\n",
    "cvt = CountVectorizer(stop_words='english')\n",
    "pipeline = Pipeline([\n",
    "    ('vect', cvt),\n",
    "    ('tfidf', TfidfTransformer()),\n",
    "    ('cls', LogisticRegression())\n",
    "])\n",
    "\n",
    "pipeline.fit(X_train,y_train)\n",
    "predicted = pipeline.predict(X_test)\n",
    "print(\"logistic regression score: {}\".format(pipeline.score(X_test,y_test)))  \n",
    "\n",
    "#cross validate\n",
    "scores = cross_val_score(pipeline, X_train, y_train, cv=5)\n",
    "print('cross-validation score: {}'.format(round(np.mean(scores),3), round(np.std(scores),3)))\n",
    "print(classification_report((y_test),predicted))"
   ]
  },
  {
   "cell_type": "code",
   "execution_count": 132,
   "metadata": {},
   "outputs": [
    {
     "name": "stdout",
     "output_type": "stream",
     "text": [
      "X_train shape: (2217,) \n",
      "\n",
      "Random Forest score: 0.9989484752891693\n",
      "cross-validation score: 0.999\n",
      "             precision    recall  f1-score   support\n",
      "\n",
      "          0       1.00      1.00      1.00       494\n",
      "          1       1.00      1.00      1.00       457\n",
      "\n",
      "avg / total       1.00      1.00      1.00       951\n",
      "\n"
     ]
    }
   ],
   "source": [
    "# Create train test split using requirements\n",
    "X = jobtitle_over.responsibilities\n",
    "y = jobtitle_over.target_jobtitle\n",
    "\n",
    "X_train, X_test, y_train, y_test = train_test_split(X, y, test_size=0.3, random_state=1)\n",
    "\n",
    "print('X_train shape: {}'.format(X_train.shape),'\\n')\n",
    "\n",
    "# Create a pipeline to verctorize and use random forest classifier\n",
    "cvt = CountVectorizer(stop_words='english')\n",
    "pipeline = Pipeline([\n",
    "    ('vect', cvt),\n",
    "    ('tfidf', TfidfTransformer()),\n",
    "    ('rf', RandomForestClassifier(n_estimators=100,random_state=42))\n",
    "])\n",
    "\n",
    "pipeline.fit(X_train,y_train)\n",
    "predicted = pipeline.predict(X_test)\n",
    "print(\"Random Forest score: {}\".format(pipeline.score(X_test,y_test)))\n",
    "\n",
    "#cross validate\n",
    "scores = cross_val_score(pipeline, X_train, y_train, cv=5)\n",
    "print('cross-validation score: {}'.format(round(np.mean(scores),3), round(np.std(scores),3)))\n",
    "print(classification_report((y_test),predicted))"
   ]
  },
  {
   "cell_type": "code",
   "execution_count": 133,
   "metadata": {},
   "outputs": [
    {
     "name": "stdout",
     "output_type": "stream",
     "text": [
      "X_train shape: (2217,) \n",
      "\n",
      "logistic regression score: 0.9894847528916929\n",
      "cross-validation score: 0.991\n",
      "             precision    recall  f1-score   support\n",
      "\n",
      "          0       1.00      0.98      0.99       494\n",
      "          1       0.98      1.00      0.99       457\n",
      "\n",
      "avg / total       0.99      0.99      0.99       951\n",
      "\n"
     ]
    }
   ],
   "source": [
    "# Create train test split using requirements\n",
    "X = jobtitle_over.responsibilities\n",
    "y = jobtitle_over.target_jobtitle\n",
    "\n",
    "X_train, X_test, y_train, y_test = train_test_split(X, y, test_size=0.3, random_state=1)\n",
    "\n",
    "print('X_train shape: {}'.format(X_train.shape),'\\n')\n",
    "\n",
    "# Create a pipeline using logistic regression\n",
    "cvt = CountVectorizer(stop_words='english')\n",
    "pipeline = Pipeline([\n",
    "    ('vect', cvt),\n",
    "    ('tfidf', TfidfTransformer()),\n",
    "    ('cls', LogisticRegression())\n",
    "])\n",
    "\n",
    "pipeline.fit(X_train,y_train)\n",
    "predicted = pipeline.predict(X_test)\n",
    "print(\"logistic regression score: {}\".format(pipeline.score(X_test,y_test)))  \n",
    "\n",
    "#cross validate\n",
    "scores = cross_val_score(pipeline, X_train, y_train, cv=5)\n",
    "print('cross-validation score: {}'.format(round(np.mean(scores),3), round(np.std(scores),3)))\n",
    "print(classification_report((y_test),predicted))"
   ]
  },
  {
   "cell_type": "markdown",
   "metadata": {},
   "source": [
    "Based on the analysis of the predictive models used above, requirements and responsibilities of a \n",
    "job has the best predictive value of whether the job is high or low paying, which is defined \n",
    "by the median salary of all data related jobs extracted from the URL. "
   ]
  }
 ],
 "metadata": {
  "kernelspec": {
   "display_name": "Python 3",
   "language": "python",
   "name": "python3"
  },
  "language_info": {
   "codemirror_mode": {
    "name": "ipython",
    "version": 3
   },
   "file_extension": ".py",
   "mimetype": "text/x-python",
   "name": "python",
   "nbconvert_exporter": "python",
   "pygments_lexer": "ipython3",
   "version": "3.7.0"
  }
 },
 "nbformat": 4,
 "nbformat_minor": 2
}
